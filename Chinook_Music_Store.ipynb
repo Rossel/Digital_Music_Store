{
  "nbformat": 4,
  "nbformat_minor": 0,
  "metadata": {
    "colab": {
      "name": "Chinook_Music_Store",
      "provenance": [],
      "authorship_tag": "ABX9TyMl2Rwlu4wvFXI6f9p+Z+Sr",
      "include_colab_link": true
    },
    "kernelspec": {
      "name": "python3",
      "display_name": "Python 3"
    }
  },
  "cells": [
    {
      "cell_type": "markdown",
      "metadata": {
        "id": "view-in-github",
        "colab_type": "text"
      },
      "source": [
        "<a href=\"https://colab.research.google.com/github/Rossel/Digital_Music_Store/blob/master/Chinook_Music_Store.ipynb\" target=\"_parent\"><img src=\"https://colab.research.google.com/assets/colab-badge.svg\" alt=\"Open In Colab\"/></a>"
      ]
    },
    {
      "cell_type": "markdown",
      "metadata": {
        "id": "Xf_cuWd5AMQQ",
        "colab_type": "text"
      },
      "source": [
        "# **Chinook Music Store**"
      ]
    },
    {
      "cell_type": "markdown",
      "metadata": {
        "id": "FCRLozAoB8Yv",
        "colab_type": "text"
      },
      "source": [
        "## 1. Introduction"
      ]
    },
    {
      "cell_type": "markdown",
      "metadata": {
        "id": "yb0YX9QlAU6X",
        "colab_type": "text"
      },
      "source": [
        "In this notebook I analyse a SQL database for a *fictional* digital music shop called Chinook, which can be compared to the iTunes Music store. Its management wants to obtain insights into its sales performance to further optimize its business strategy. The central question being asked by Chinook's management is:\n",
        "\n",
        "**How can Chinook improve its performance and optimize its sales strategy?**\n",
        "\n",
        "\n",
        "To answer this question, and various sub-questions, this report will cover the following topics:\n",
        "\n",
        "* Best selling product categories\n",
        "* Sales performance per country\n",
        "* Sales agents performance\n",
        "* Customer base\n",
        "* Music inventory\n"
      ]
    },
    {
      "cell_type": "markdown",
      "metadata": {
        "id": "eWZ3KidYKIcO",
        "colab_type": "text"
      },
      "source": [
        "###The database\n",
        "\n",
        "For this report, a modified version of an SQLite database is being used from [this resource](https://github.com/lerocha/chinook-database). The actual version used in this report can be found [here](https://drive.google.com/file/d/1edlG-tOLPxLEWP19dBmBp_NxRmc7GAcx/view?usp=sharing). It contains information about the artists, songs, and albums from the music shop, as well as information on the shop's employees, customers, and the customer's purchases. This information is contained in eleven tables. Below is a schema diagram for the Chinook database:\n",
        "\n",
        "![alt text](https://s3.amazonaws.com/dq-content/189/chinook-schema.svg)\n"
      ]
    },
    {
      "cell_type": "markdown",
      "metadata": {
        "id": "3p58F9YlDXk2",
        "colab_type": "text"
      },
      "source": [
        "### Importing the database\n",
        "\n",
        "This notebook is written in Google Colaboratory, which can be likened to a Jupyter Notebook within the Google Suite. It allows users to write notes, run code and visualise data within the same document. In the steps below `chinook.db` will be loaded in this Google Collaboratory notebook. \n"
      ]
    },
    {
      "cell_type": "code",
      "metadata": {
        "id": "_LBr2rk1T0xR",
        "colab_type": "code",
        "colab": {}
      },
      "source": [
        "# Import functions from Google modules into Colaboratory\n",
        "!pip install -U -q PyDrive\n",
        "from pydrive.auth import GoogleAuth\n",
        "from pydrive.drive import GoogleDrive\n",
        "from google.colab import auth\n",
        "from oauth2client.client import GoogleCredentials\n",
        "\n",
        "# Authenticate and create the PyDrive client\n",
        "auth.authenticate_user()\n",
        "gauth = GoogleAuth()\n",
        "gauth.credentials = GoogleCredentials.get_application_default()\n",
        "drive = GoogleDrive(gauth)"
      ],
      "execution_count": null,
      "outputs": []
    },
    {
      "cell_type": "code",
      "metadata": {
        "id": "pzy0-ZtPScNy",
        "colab_type": "code",
        "colab": {}
      },
      "source": [
        "# Insert file id from Google Drive shareable link:\n",
        "# https://drive.google.com/file/d/1edlG-tOLPxLEWP19dBmBp_NxRmc7GAcx/view?usp=sharing\n",
        "id = '1edlG-tOLPxLEWP19dBmBp_NxRmc7GAcx'"
      ],
      "execution_count": null,
      "outputs": []
    },
    {
      "cell_type": "code",
      "metadata": {
        "id": "mspPJ_6QT1mi",
        "colab_type": "code",
        "colab": {}
      },
      "source": [
        "# Download the dataset\n",
        "downloaded = drive.CreateFile({'id':id}) \n",
        "downloaded.GetContentFile('chinook.db')"
      ],
      "execution_count": null,
      "outputs": []
    },
    {
      "cell_type": "code",
      "metadata": {
        "id": "vBAHoQ3QO4cb",
        "colab_type": "code",
        "colab": {}
      },
      "source": [
        "# Import SQLite3 and pandas library\n",
        "import sqlite3\n",
        "import pandas as pd"
      ],
      "execution_count": null,
      "outputs": []
    },
    {
      "cell_type": "code",
      "metadata": {
        "id": "hJXj6T_naCHQ",
        "colab_type": "code",
        "colab": {}
      },
      "source": [
        "# Connect the notebook to the database file\n",
        "%%capture\n",
        "%load_ext sql\n",
        "%sql sqlite:///chinook.db"
      ],
      "execution_count": null,
      "outputs": []
    },
    {
      "cell_type": "markdown",
      "metadata": {
        "id": "gw2mPNtgHRx8",
        "colab_type": "text"
      },
      "source": [
        "To verify the database is fully functional, a query is run to return information on the tables and views in the database.\n",
        "\n",
        "In order to run SQL queries in a Collab notebook, the IPython Magic Command `%%sql` needs to be run on the first line of every cell, followed by the SQL query itself. "
      ]
    },
    {
      "cell_type": "code",
      "metadata": {
        "id": "qGz6pKcsKJWh",
        "colab_type": "code",
        "colab": {
          "base_uri": "https://localhost:8080/",
          "height": 266
        },
        "outputId": "e588f495-8fa4-48cc-8ae0-dc7c91ffac69"
      },
      "source": [
        "%%sql\n",
        "\n",
        "SELECT name, type\n",
        "  FROM sqlite_master\n",
        " WHERE type IN (\"table\", \"view\");"
      ],
      "execution_count": null,
      "outputs": [
        {
          "output_type": "stream",
          "text": [
            " * sqlite:///chinook.db\n",
            "Done.\n"
          ],
          "name": "stdout"
        },
        {
          "output_type": "execute_result",
          "data": {
            "text/html": [
              "<table>\n",
              "    <tr>\n",
              "        <th>name</th>\n",
              "        <th>type</th>\n",
              "    </tr>\n",
              "    <tr>\n",
              "        <td>album</td>\n",
              "        <td>table</td>\n",
              "    </tr>\n",
              "    <tr>\n",
              "        <td>artist</td>\n",
              "        <td>table</td>\n",
              "    </tr>\n",
              "    <tr>\n",
              "        <td>customer</td>\n",
              "        <td>table</td>\n",
              "    </tr>\n",
              "    <tr>\n",
              "        <td>employee</td>\n",
              "        <td>table</td>\n",
              "    </tr>\n",
              "    <tr>\n",
              "        <td>genre</td>\n",
              "        <td>table</td>\n",
              "    </tr>\n",
              "    <tr>\n",
              "        <td>invoice</td>\n",
              "        <td>table</td>\n",
              "    </tr>\n",
              "    <tr>\n",
              "        <td>invoice_line</td>\n",
              "        <td>table</td>\n",
              "    </tr>\n",
              "    <tr>\n",
              "        <td>media_type</td>\n",
              "        <td>table</td>\n",
              "    </tr>\n",
              "    <tr>\n",
              "        <td>playlist</td>\n",
              "        <td>table</td>\n",
              "    </tr>\n",
              "    <tr>\n",
              "        <td>playlist_track</td>\n",
              "        <td>table</td>\n",
              "    </tr>\n",
              "    <tr>\n",
              "        <td>track</td>\n",
              "        <td>table</td>\n",
              "    </tr>\n",
              "</table>"
            ],
            "text/plain": [
              "[('album', 'table'),\n",
              " ('artist', 'table'),\n",
              " ('customer', 'table'),\n",
              " ('employee', 'table'),\n",
              " ('genre', 'table'),\n",
              " ('invoice', 'table'),\n",
              " ('invoice_line', 'table'),\n",
              " ('media_type', 'table'),\n",
              " ('playlist', 'table'),\n",
              " ('playlist_track', 'table'),\n",
              " ('track', 'table')]"
            ]
          },
          "metadata": {
            "tags": []
          },
          "execution_count": 6
        }
      ]
    },
    {
      "cell_type": "markdown",
      "metadata": {
        "id": "7h-8GU_1EpKd",
        "colab_type": "text"
      },
      "source": [
        "## 2. Best selling product categories"
      ]
    },
    {
      "cell_type": "markdown",
      "metadata": {
        "id": "GU56DscsE-V8",
        "colab_type": "text"
      },
      "source": [
        "In this section, the following questions will be answered:\n",
        "* Who are the best selling artists?\n",
        "* What are the best selling albums? \n",
        "* What are the best selling genres?\n",
        "* Which artists are most sold through playlists?"
      ]
    },
    {
      "cell_type": "markdown",
      "metadata": {
        "id": "ReN8q9mLNHgr",
        "colab_type": "text"
      },
      "source": [
        "### Best selling artists"
      ]
    },
    {
      "cell_type": "code",
      "metadata": {
        "id": "gYx93ZZMQy-K",
        "colab_type": "code",
        "colab": {
          "base_uri": "https://localhost:8080/",
          "height": 248
        },
        "outputId": "1b23c167-85d2-49cd-fe32-c9c204451cc5"
      },
      "source": [
        "%%sql\n",
        "\n",
        "SELECT\n",
        "    ta.artist_name artist,\n",
        "    COUNT(*) tracks_purchased\n",
        "FROM invoice_line il\n",
        "INNER JOIN (\n",
        "            SELECT\n",
        "                t.track_id,\n",
        "                ar.name artist_name\n",
        "            FROM track t\n",
        "            INNER JOIN album al ON al.album_id = t.album_id\n",
        "            INNER JOIN artist ar ON ar.artist_id = al.artist_id\n",
        "           ) ta\n",
        "           ON ta.track_id = il.track_id\n",
        "GROUP BY 1\n",
        "ORDER BY 2 DESC \n",
        "LIMIT 10;"
      ],
      "execution_count": null,
      "outputs": [
        {
          "output_type": "stream",
          "text": [
            " * sqlite:///chinook.db\n",
            "Done.\n"
          ],
          "name": "stdout"
        },
        {
          "output_type": "execute_result",
          "data": {
            "text/html": [
              "<table>\n",
              "    <tr>\n",
              "        <th>artist</th>\n",
              "        <th>tracks_purchased</th>\n",
              "    </tr>\n",
              "    <tr>\n",
              "        <td>Queen</td>\n",
              "        <td>192</td>\n",
              "    </tr>\n",
              "    <tr>\n",
              "        <td>Jimi Hendrix</td>\n",
              "        <td>187</td>\n",
              "    </tr>\n",
              "    <tr>\n",
              "        <td>Nirvana</td>\n",
              "        <td>130</td>\n",
              "    </tr>\n",
              "    <tr>\n",
              "        <td>Red Hot Chili Peppers</td>\n",
              "        <td>130</td>\n",
              "    </tr>\n",
              "    <tr>\n",
              "        <td>Pearl Jam</td>\n",
              "        <td>129</td>\n",
              "    </tr>\n",
              "    <tr>\n",
              "        <td>AC/DC</td>\n",
              "        <td>124</td>\n",
              "    </tr>\n",
              "    <tr>\n",
              "        <td>Guns N&#x27; Roses</td>\n",
              "        <td>124</td>\n",
              "    </tr>\n",
              "    <tr>\n",
              "        <td>Foo Fighters</td>\n",
              "        <td>121</td>\n",
              "    </tr>\n",
              "    <tr>\n",
              "        <td>The Rolling Stones</td>\n",
              "        <td>117</td>\n",
              "    </tr>\n",
              "    <tr>\n",
              "        <td>Metallica</td>\n",
              "        <td>106</td>\n",
              "    </tr>\n",
              "</table>"
            ],
            "text/plain": [
              "[('Queen', 192),\n",
              " ('Jimi Hendrix', 187),\n",
              " ('Nirvana', 130),\n",
              " ('Red Hot Chili Peppers', 130),\n",
              " ('Pearl Jam', 129),\n",
              " ('AC/DC', 124),\n",
              " (\"Guns N' Roses\", 124),\n",
              " ('Foo Fighters', 121),\n",
              " ('The Rolling Stones', 117),\n",
              " ('Metallica', 106)]"
            ]
          },
          "metadata": {
            "tags": []
          },
          "execution_count": 7
        }
      ]
    },
    {
      "cell_type": "markdown",
      "metadata": {
        "id": "_RUjTPpBNO53",
        "colab_type": "text"
      },
      "source": [
        "**Queen** and **Jimi Hendrix** are the most popular artists in the Chinook music store."
      ]
    },
    {
      "cell_type": "markdown",
      "metadata": {
        "id": "uxA7ttObOjMB",
        "colab_type": "text"
      },
      "source": [
        "Using the query above in reversed order, the least popular artists can be found that could be eliminated from the database to cut costs for Chinook. Chinooks management would have to decide before proceeding with this, so currently it remains outside the scope of this project. A date clause would have to be included to avoid elimination of artists that have recently been added to the inventory."
      ]
    },
    {
      "cell_type": "markdown",
      "metadata": {
        "colab_type": "text",
        "id": "XdRj1RsJQR9T"
      },
      "source": [
        "### Best selling albums"
      ]
    },
    {
      "cell_type": "code",
      "metadata": {
        "id": "fpE1eWeDRDnD",
        "colab_type": "code",
        "colab": {
          "base_uri": "https://localhost:8080/",
          "height": 160
        },
        "outputId": "3be4dc25-fdc7-4826-85a0-7a882a7e9c7d"
      },
      "source": [
        "%%sql\n",
        "\n",
        "SELECT\n",
        "    ta.album_title album,\n",
        "    ta.artist_name artist,\n",
        "    COUNT(*) tracks_purchased\n",
        "  FROM invoice_line il\n",
        " INNER JOIN (\n",
        "            SELECT\n",
        "                t.track_id,\n",
        "                al.title album_title,\n",
        "                ar.name artist_name\n",
        "            FROM track t\n",
        "            INNER JOIN album al ON al.album_id = t.album_id\n",
        "            INNER JOIN artist ar ON ar.artist_id = al.artist_id\n",
        "           ) ta\n",
        "           ON ta.track_id = il.track_id\n",
        " GROUP BY 1, 2\n",
        " ORDER BY 3 DESC \n",
        " LIMIT 5;"
      ],
      "execution_count": null,
      "outputs": [
        {
          "output_type": "stream",
          "text": [
            " * sqlite:///chinook.db\n",
            "Done.\n"
          ],
          "name": "stdout"
        },
        {
          "output_type": "execute_result",
          "data": {
            "text/html": [
              "<table>\n",
              "    <tr>\n",
              "        <th>album</th>\n",
              "        <th>artist</th>\n",
              "        <th>tracks_purchased</th>\n",
              "    </tr>\n",
              "    <tr>\n",
              "        <td>Are You Experienced?</td>\n",
              "        <td>Jimi Hendrix</td>\n",
              "        <td>187</td>\n",
              "    </tr>\n",
              "    <tr>\n",
              "        <td>Faceless</td>\n",
              "        <td>Godsmack</td>\n",
              "        <td>96</td>\n",
              "    </tr>\n",
              "    <tr>\n",
              "        <td>Mezmerize</td>\n",
              "        <td>System Of A Down</td>\n",
              "        <td>93</td>\n",
              "    </tr>\n",
              "    <tr>\n",
              "        <td>Get Born</td>\n",
              "        <td>JET</td>\n",
              "        <td>90</td>\n",
              "    </tr>\n",
              "    <tr>\n",
              "        <td>The Doors</td>\n",
              "        <td>The Doors</td>\n",
              "        <td>83</td>\n",
              "    </tr>\n",
              "</table>"
            ],
            "text/plain": [
              "[('Are You Experienced?', 'Jimi Hendrix', 187),\n",
              " ('Faceless', 'Godsmack', 96),\n",
              " ('Mezmerize', 'System Of A Down', 93),\n",
              " ('Get Born', 'JET', 90),\n",
              " ('The Doors', 'The Doors', 83)]"
            ]
          },
          "metadata": {
            "tags": []
          },
          "execution_count": 8
        }
      ]
    },
    {
      "cell_type": "markdown",
      "metadata": {
        "id": "v476lr--UW7q",
        "colab_type": "text"
      },
      "source": [
        "The album \"**Are You Experienced?**\" by **Jimi Hendrix** is sold most according to the database. Below is an overview of the tracks on this album."
      ]
    },
    {
      "cell_type": "code",
      "metadata": {
        "id": "5_oW452caeVA",
        "colab_type": "code",
        "colab": {
          "base_uri": "https://localhost:8080/",
          "height": 373
        },
        "outputId": "c33febe6-8fdf-4247-d824-457ca2b0385f"
      },
      "source": [
        "%%sql\n",
        "\n",
        "SELECT * FROM\n",
        "    (\n",
        "     SELECT\n",
        "         t.name,\n",
        "         ar.name artist,\n",
        "         al.title album_name,\n",
        "         mt.name media_type,\n",
        "         g.name genre,\n",
        "         t.milliseconds length_milliseconds\n",
        "     FROM track t\n",
        "     INNER JOIN media_type mt ON mt.media_type_id = t.media_type_id\n",
        "     INNER JOIN genre g ON g.genre_id = t.genre_id\n",
        "     INNER JOIN album al ON al.album_id = t.album_id\n",
        "     INNER JOIN artist ar ON ar.artist_id = al.artist_id\n",
        "    )\n",
        "WHERE album_name = \"Are You Experienced?\";"
      ],
      "execution_count": null,
      "outputs": [
        {
          "output_type": "stream",
          "text": [
            " * sqlite:///chinook.db\n",
            "Done.\n"
          ],
          "name": "stdout"
        },
        {
          "output_type": "execute_result",
          "data": {
            "text/html": [
              "<table>\n",
              "    <tr>\n",
              "        <th>name</th>\n",
              "        <th>artist</th>\n",
              "        <th>album_name</th>\n",
              "        <th>media_type</th>\n",
              "        <th>genre</th>\n",
              "        <th>length_milliseconds</th>\n",
              "    </tr>\n",
              "    <tr>\n",
              "        <td>Foxy Lady</td>\n",
              "        <td>Jimi Hendrix</td>\n",
              "        <td>Are You Experienced?</td>\n",
              "        <td>MPEG audio file</td>\n",
              "        <td>Rock</td>\n",
              "        <td>199340</td>\n",
              "    </tr>\n",
              "    <tr>\n",
              "        <td>Manic Depression</td>\n",
              "        <td>Jimi Hendrix</td>\n",
              "        <td>Are You Experienced?</td>\n",
              "        <td>MPEG audio file</td>\n",
              "        <td>Rock</td>\n",
              "        <td>222302</td>\n",
              "    </tr>\n",
              "    <tr>\n",
              "        <td>Red House</td>\n",
              "        <td>Jimi Hendrix</td>\n",
              "        <td>Are You Experienced?</td>\n",
              "        <td>MPEG audio file</td>\n",
              "        <td>Rock</td>\n",
              "        <td>224130</td>\n",
              "    </tr>\n",
              "    <tr>\n",
              "        <td>Can You See Me</td>\n",
              "        <td>Jimi Hendrix</td>\n",
              "        <td>Are You Experienced?</td>\n",
              "        <td>MPEG audio file</td>\n",
              "        <td>Rock</td>\n",
              "        <td>153077</td>\n",
              "    </tr>\n",
              "    <tr>\n",
              "        <td>Love Or Confusion</td>\n",
              "        <td>Jimi Hendrix</td>\n",
              "        <td>Are You Experienced?</td>\n",
              "        <td>MPEG audio file</td>\n",
              "        <td>Rock</td>\n",
              "        <td>193123</td>\n",
              "    </tr>\n",
              "    <tr>\n",
              "        <td>I Don&#x27;t Live Today</td>\n",
              "        <td>Jimi Hendrix</td>\n",
              "        <td>Are You Experienced?</td>\n",
              "        <td>MPEG audio file</td>\n",
              "        <td>Rock</td>\n",
              "        <td>235311</td>\n",
              "    </tr>\n",
              "    <tr>\n",
              "        <td>May This Be Love</td>\n",
              "        <td>Jimi Hendrix</td>\n",
              "        <td>Are You Experienced?</td>\n",
              "        <td>MPEG audio file</td>\n",
              "        <td>Rock</td>\n",
              "        <td>191216</td>\n",
              "    </tr>\n",
              "    <tr>\n",
              "        <td>Fire</td>\n",
              "        <td>Jimi Hendrix</td>\n",
              "        <td>Are You Experienced?</td>\n",
              "        <td>MPEG audio file</td>\n",
              "        <td>Rock</td>\n",
              "        <td>164989</td>\n",
              "    </tr>\n",
              "    <tr>\n",
              "        <td>Third Stone From The Sun</td>\n",
              "        <td>Jimi Hendrix</td>\n",
              "        <td>Are You Experienced?</td>\n",
              "        <td>MPEG audio file</td>\n",
              "        <td>Rock</td>\n",
              "        <td>404453</td>\n",
              "    </tr>\n",
              "    <tr>\n",
              "        <td>Remember</td>\n",
              "        <td>Jimi Hendrix</td>\n",
              "        <td>Are You Experienced?</td>\n",
              "        <td>MPEG audio file</td>\n",
              "        <td>Rock</td>\n",
              "        <td>168150</td>\n",
              "    </tr>\n",
              "    <tr>\n",
              "        <td>Are You Experienced?</td>\n",
              "        <td>Jimi Hendrix</td>\n",
              "        <td>Are You Experienced?</td>\n",
              "        <td>MPEG audio file</td>\n",
              "        <td>Rock</td>\n",
              "        <td>254537</td>\n",
              "    </tr>\n",
              "    <tr>\n",
              "        <td>Hey Joe</td>\n",
              "        <td>Jimi Hendrix</td>\n",
              "        <td>Are You Experienced?</td>\n",
              "        <td>MPEG audio file</td>\n",
              "        <td>Rock</td>\n",
              "        <td>210259</td>\n",
              "    </tr>\n",
              "    <tr>\n",
              "        <td>Stone Free</td>\n",
              "        <td>Jimi Hendrix</td>\n",
              "        <td>Are You Experienced?</td>\n",
              "        <td>MPEG audio file</td>\n",
              "        <td>Rock</td>\n",
              "        <td>216293</td>\n",
              "    </tr>\n",
              "    <tr>\n",
              "        <td>Purple Haze</td>\n",
              "        <td>Jimi Hendrix</td>\n",
              "        <td>Are You Experienced?</td>\n",
              "        <td>MPEG audio file</td>\n",
              "        <td>Rock</td>\n",
              "        <td>171572</td>\n",
              "    </tr>\n",
              "    <tr>\n",
              "        <td>51st Anniversary</td>\n",
              "        <td>Jimi Hendrix</td>\n",
              "        <td>Are You Experienced?</td>\n",
              "        <td>MPEG audio file</td>\n",
              "        <td>Rock</td>\n",
              "        <td>196388</td>\n",
              "    </tr>\n",
              "    <tr>\n",
              "        <td>The Wind Cries Mary</td>\n",
              "        <td>Jimi Hendrix</td>\n",
              "        <td>Are You Experienced?</td>\n",
              "        <td>MPEG audio file</td>\n",
              "        <td>Rock</td>\n",
              "        <td>200463</td>\n",
              "    </tr>\n",
              "    <tr>\n",
              "        <td>Highway Chile</td>\n",
              "        <td>Jimi Hendrix</td>\n",
              "        <td>Are You Experienced?</td>\n",
              "        <td>MPEG audio file</td>\n",
              "        <td>Rock</td>\n",
              "        <td>212453</td>\n",
              "    </tr>\n",
              "</table>"
            ],
            "text/plain": [
              "[('Foxy Lady', 'Jimi Hendrix', 'Are You Experienced?', 'MPEG audio file', 'Rock', 199340),\n",
              " ('Manic Depression', 'Jimi Hendrix', 'Are You Experienced?', 'MPEG audio file', 'Rock', 222302),\n",
              " ('Red House', 'Jimi Hendrix', 'Are You Experienced?', 'MPEG audio file', 'Rock', 224130),\n",
              " ('Can You See Me', 'Jimi Hendrix', 'Are You Experienced?', 'MPEG audio file', 'Rock', 153077),\n",
              " ('Love Or Confusion', 'Jimi Hendrix', 'Are You Experienced?', 'MPEG audio file', 'Rock', 193123),\n",
              " (\"I Don't Live Today\", 'Jimi Hendrix', 'Are You Experienced?', 'MPEG audio file', 'Rock', 235311),\n",
              " ('May This Be Love', 'Jimi Hendrix', 'Are You Experienced?', 'MPEG audio file', 'Rock', 191216),\n",
              " ('Fire', 'Jimi Hendrix', 'Are You Experienced?', 'MPEG audio file', 'Rock', 164989),\n",
              " ('Third Stone From The Sun', 'Jimi Hendrix', 'Are You Experienced?', 'MPEG audio file', 'Rock', 404453),\n",
              " ('Remember', 'Jimi Hendrix', 'Are You Experienced?', 'MPEG audio file', 'Rock', 168150),\n",
              " ('Are You Experienced?', 'Jimi Hendrix', 'Are You Experienced?', 'MPEG audio file', 'Rock', 254537),\n",
              " ('Hey Joe', 'Jimi Hendrix', 'Are You Experienced?', 'MPEG audio file', 'Rock', 210259),\n",
              " ('Stone Free', 'Jimi Hendrix', 'Are You Experienced?', 'MPEG audio file', 'Rock', 216293),\n",
              " ('Purple Haze', 'Jimi Hendrix', 'Are You Experienced?', 'MPEG audio file', 'Rock', 171572),\n",
              " ('51st Anniversary', 'Jimi Hendrix', 'Are You Experienced?', 'MPEG audio file', 'Rock', 196388),\n",
              " ('The Wind Cries Mary', 'Jimi Hendrix', 'Are You Experienced?', 'MPEG audio file', 'Rock', 200463),\n",
              " ('Highway Chile', 'Jimi Hendrix', 'Are You Experienced?', 'MPEG audio file', 'Rock', 212453)]"
            ]
          },
          "metadata": {
            "tags": []
          },
          "execution_count": 9
        }
      ]
    },
    {
      "cell_type": "markdown",
      "metadata": {
        "id": "bKtsj4nfOkCt",
        "colab_type": "text"
      },
      "source": [
        "![Jimi Hendrix](https://1.bp.blogspot.com/-_KAun5P_CU0/UI9S8RSQ7eI/AAAAAAAAAhc/K2XrzWc2_rY/s1600/Jimi+Hendrix.jpg)"
      ]
    },
    {
      "cell_type": "markdown",
      "metadata": {
        "colab_type": "text",
        "id": "rWL4kB-NQSB3"
      },
      "source": [
        "### Best selling genres"
      ]
    },
    {
      "cell_type": "code",
      "metadata": {
        "id": "suZ5Xae5UE_H",
        "colab_type": "code",
        "colab": {
          "base_uri": "https://localhost:8080/",
          "height": 391
        },
        "outputId": "8448bf30-b3fc-455d-bf43-f6f787cc1065"
      },
      "source": [
        "%%sql \n",
        "\n",
        "SELECT \n",
        "       g.name genre_name,\n",
        "       SUM(il.quantity) tracks_sold FROM track t\n",
        " INNER JOIN invoice_line il ON il.track_id = t.track_id INNER JOIN genre g ON g.genre_id = t.genre_id\n",
        " GROUP BY 1\n",
        " ORDER BY 2 DESC;"
      ],
      "execution_count": null,
      "outputs": [
        {
          "output_type": "stream",
          "text": [
            " * sqlite:///chinook.db\n",
            "Done.\n"
          ],
          "name": "stdout"
        },
        {
          "output_type": "execute_result",
          "data": {
            "text/html": [
              "<table>\n",
              "    <tr>\n",
              "        <th>genre_name</th>\n",
              "        <th>tracks_sold</th>\n",
              "    </tr>\n",
              "    <tr>\n",
              "        <td>Rock</td>\n",
              "        <td>2635</td>\n",
              "    </tr>\n",
              "    <tr>\n",
              "        <td>Metal</td>\n",
              "        <td>619</td>\n",
              "    </tr>\n",
              "    <tr>\n",
              "        <td>Alternative &amp; Punk</td>\n",
              "        <td>492</td>\n",
              "    </tr>\n",
              "    <tr>\n",
              "        <td>Latin</td>\n",
              "        <td>167</td>\n",
              "    </tr>\n",
              "    <tr>\n",
              "        <td>R&amp;B/Soul</td>\n",
              "        <td>159</td>\n",
              "    </tr>\n",
              "    <tr>\n",
              "        <td>Blues</td>\n",
              "        <td>124</td>\n",
              "    </tr>\n",
              "    <tr>\n",
              "        <td>Jazz</td>\n",
              "        <td>121</td>\n",
              "    </tr>\n",
              "    <tr>\n",
              "        <td>Alternative</td>\n",
              "        <td>117</td>\n",
              "    </tr>\n",
              "    <tr>\n",
              "        <td>Easy Listening</td>\n",
              "        <td>74</td>\n",
              "    </tr>\n",
              "    <tr>\n",
              "        <td>Pop</td>\n",
              "        <td>63</td>\n",
              "    </tr>\n",
              "    <tr>\n",
              "        <td>Electronica/Dance</td>\n",
              "        <td>55</td>\n",
              "    </tr>\n",
              "    <tr>\n",
              "        <td>Classical</td>\n",
              "        <td>47</td>\n",
              "    </tr>\n",
              "    <tr>\n",
              "        <td>Reggae</td>\n",
              "        <td>35</td>\n",
              "    </tr>\n",
              "    <tr>\n",
              "        <td>Hip Hop/Rap</td>\n",
              "        <td>33</td>\n",
              "    </tr>\n",
              "    <tr>\n",
              "        <td>Heavy Metal</td>\n",
              "        <td>8</td>\n",
              "    </tr>\n",
              "    <tr>\n",
              "        <td>Soundtrack</td>\n",
              "        <td>5</td>\n",
              "    </tr>\n",
              "    <tr>\n",
              "        <td>TV Shows</td>\n",
              "        <td>2</td>\n",
              "    </tr>\n",
              "    <tr>\n",
              "        <td>Drama</td>\n",
              "        <td>1</td>\n",
              "    </tr>\n",
              "</table>"
            ],
            "text/plain": [
              "[('Rock', 2635),\n",
              " ('Metal', 619),\n",
              " ('Alternative & Punk', 492),\n",
              " ('Latin', 167),\n",
              " ('R&B/Soul', 159),\n",
              " ('Blues', 124),\n",
              " ('Jazz', 121),\n",
              " ('Alternative', 117),\n",
              " ('Easy Listening', 74),\n",
              " ('Pop', 63),\n",
              " ('Electronica/Dance', 55),\n",
              " ('Classical', 47),\n",
              " ('Reggae', 35),\n",
              " ('Hip Hop/Rap', 33),\n",
              " ('Heavy Metal', 8),\n",
              " ('Soundtrack', 5),\n",
              " ('TV Shows', 2),\n",
              " ('Drama', 1)]"
            ]
          },
          "metadata": {
            "tags": []
          },
          "execution_count": 10
        }
      ]
    },
    {
      "cell_type": "markdown",
      "metadata": {
        "id": "K8m2hIf-Vetv",
        "colab_type": "text"
      },
      "source": [
        "**Rock** is by far the best selling genre on Chinook, followed by **Metal** and **Alternative & Punk**. It is advisable for Chinook to leverage its strength in these genres, and invest to expand its inventory in these genres. In its marketing expressions, Chinook should profile itself as a **specialist** in these genres to further attrack audiences interested in these genres.\n",
        "\n",
        "The opposite, more **generalist** approach of boosting sales efforts in weaker genres (such as Soundtracks, Hip Hop/Rap and Reggae) could expand the user base substantially, but might be less cost efficient. \n",
        "\n",
        "[**The Long Tail: Why the Future of Business is Selling Less of More**](https://www.amazon.com/Long-Tail-Future-Business-Selling/dp/1401309666) by Chris Anderson describes why this generalist might pay off in the long term, but further marketing research into this topic would have to be done. Another important phenomenon to study is the direction of technological development, such as the current dominance of streaming music services."
      ]
    },
    {
      "cell_type": "markdown",
      "metadata": {
        "id": "_VK1bbXTEpbL",
        "colab_type": "text"
      },
      "source": [
        "## 3. Sales performance per country"
      ]
    },
    {
      "cell_type": "markdown",
      "metadata": {
        "id": "7POwIRXZjgEh",
        "colab_type": "text"
      },
      "source": [
        "This section will answer the following question: \n",
        "\n",
        "**What countries generate most sales, and which the least?**"
      ]
    },
    {
      "cell_type": "code",
      "metadata": {
        "id": "bzz1CVLKdT10",
        "colab_type": "code",
        "colab": {
          "base_uri": "https://localhost:8080/",
          "height": 248
        },
        "outputId": "65891f19-97b8-4dd5-d247-f5676e2e8c11"
      },
      "source": [
        "%%sql\n",
        "WITH cust_country AS\n",
        "                (\n",
        "                    SELECT c.customer_id,\n",
        "                            c.country ,\n",
        "                            COUNT(i.invoice_id) no_of_purchases,\n",
        "                            SUM(i.total) total_purchase_per_cust\n",
        "                    FROM customer c \n",
        "                    INNER JOIN invoice i ON i.customer_id = c.customer_id\n",
        "                    GROUP BY 1,2\n",
        "                    ORDER BY 2\n",
        "                ),\n",
        "    country_group AS\n",
        "                (\n",
        "                    SELECT cc.country,\n",
        "                           COUNT(cc.customer_id) total_customers,\n",
        "                           SUM(cc.total_purchase_per_cust) Total_sales,\n",
        "                            SUM(cc.total_purchase_per_cust)/SUM(cc.no_of_purchases) AVG_order_value,\n",
        "        \n",
        "                            CASE \n",
        "                                WHEN COUNT(cc.customer_id) = 1 THEN 'Other'\n",
        "                                ELSE cc.country   \n",
        "                            END AS country1\n",
        "        \n",
        "           \n",
        "             \n",
        "                    FROM cust_country cc\n",
        "                    GROUP BY 1\n",
        "                ),\n",
        "        country_sort AS\n",
        "                    (\n",
        "                        SELECT \n",
        "                            cg.country1 country,\n",
        "                            SUM(cg.total_customers) Total_customers,\n",
        "                            SUM(cg.Total_sales) Total_sales,\n",
        "                            SUM(cg.Total_sales)/SUM(cg.Total_customers) AVG_Sales_Per_Customer,\n",
        "                            cg.AVG_order_value Avg_order_value,\n",
        "                            CASE\n",
        "                                WHEN cg.country1='Other' THEN 1\n",
        "                                ELSE 0\n",
        "                            END AS sort \n",
        "                        FROM country_group cg\n",
        "                        GROUP BY 1\n",
        "                        ORDER BY sort ASC ,Total_sales DESC\n",
        "                    )\n",
        "SELECT cs.country Country,\n",
        "       cs.Total_customers Total_customers,\n",
        "       ROUND(cs.Total_sales,2) Total_sales,\n",
        "    ROUND(cs.AVG_sales_Per_Customer,2) AVG_sales_Per_Customer,\n",
        "       ROUND(cs. Avg_order_value,2) AVG_order_value\n",
        "FROM country_sort cs"
      ],
      "execution_count": null,
      "outputs": [
        {
          "output_type": "stream",
          "text": [
            " * sqlite:///chinook.db\n",
            "Done.\n"
          ],
          "name": "stdout"
        },
        {
          "output_type": "execute_result",
          "data": {
            "text/html": [
              "<table>\n",
              "    <tr>\n",
              "        <th>Country</th>\n",
              "        <th>Total_customers</th>\n",
              "        <th>Total_sales</th>\n",
              "        <th>AVG_sales_Per_Customer</th>\n",
              "        <th>AVG_order_value</th>\n",
              "    </tr>\n",
              "    <tr>\n",
              "        <td>USA</td>\n",
              "        <td>13</td>\n",
              "        <td>1040.49</td>\n",
              "        <td>80.04</td>\n",
              "        <td>7.94</td>\n",
              "    </tr>\n",
              "    <tr>\n",
              "        <td>Canada</td>\n",
              "        <td>8</td>\n",
              "        <td>535.59</td>\n",
              "        <td>66.95</td>\n",
              "        <td>7.05</td>\n",
              "    </tr>\n",
              "    <tr>\n",
              "        <td>Brazil</td>\n",
              "        <td>5</td>\n",
              "        <td>427.68</td>\n",
              "        <td>85.54</td>\n",
              "        <td>7.01</td>\n",
              "    </tr>\n",
              "    <tr>\n",
              "        <td>France</td>\n",
              "        <td>5</td>\n",
              "        <td>389.07</td>\n",
              "        <td>77.81</td>\n",
              "        <td>7.78</td>\n",
              "    </tr>\n",
              "    <tr>\n",
              "        <td>Germany</td>\n",
              "        <td>4</td>\n",
              "        <td>334.62</td>\n",
              "        <td>83.66</td>\n",
              "        <td>8.16</td>\n",
              "    </tr>\n",
              "    <tr>\n",
              "        <td>Czech Republic</td>\n",
              "        <td>2</td>\n",
              "        <td>273.24</td>\n",
              "        <td>136.62</td>\n",
              "        <td>9.11</td>\n",
              "    </tr>\n",
              "    <tr>\n",
              "        <td>United Kingdom</td>\n",
              "        <td>3</td>\n",
              "        <td>245.52</td>\n",
              "        <td>81.84</td>\n",
              "        <td>8.77</td>\n",
              "    </tr>\n",
              "    <tr>\n",
              "        <td>Portugal</td>\n",
              "        <td>2</td>\n",
              "        <td>185.13</td>\n",
              "        <td>92.56</td>\n",
              "        <td>6.38</td>\n",
              "    </tr>\n",
              "    <tr>\n",
              "        <td>India</td>\n",
              "        <td>2</td>\n",
              "        <td>183.15</td>\n",
              "        <td>91.57</td>\n",
              "        <td>8.72</td>\n",
              "    </tr>\n",
              "    <tr>\n",
              "        <td>Other</td>\n",
              "        <td>15</td>\n",
              "        <td>1094.94</td>\n",
              "        <td>73.0</td>\n",
              "        <td>7.52</td>\n",
              "    </tr>\n",
              "</table>"
            ],
            "text/plain": [
              "[('USA', 13, 1040.49, 80.04, 7.94),\n",
              " ('Canada', 8, 535.59, 66.95, 7.05),\n",
              " ('Brazil', 5, 427.68, 85.54, 7.01),\n",
              " ('France', 5, 389.07, 77.81, 7.78),\n",
              " ('Germany', 4, 334.62, 83.66, 8.16),\n",
              " ('Czech Republic', 2, 273.24, 136.62, 9.11),\n",
              " ('United Kingdom', 3, 245.52, 81.84, 8.77),\n",
              " ('Portugal', 2, 185.13, 92.56, 6.38),\n",
              " ('India', 2, 183.15, 91.57, 8.72),\n",
              " ('Other', 15, 1094.94, 73.0, 7.52)]"
            ]
          },
          "metadata": {
            "tags": []
          },
          "execution_count": 11
        }
      ]
    },
    {
      "cell_type": "markdown",
      "metadata": {
        "id": "F9L4c5Z3Epdy",
        "colab_type": "text"
      },
      "source": [
        "The **USA** generates the most sales, followed by **Canada**, while average sales per customer are the lowest for these countries. The **Czech Republic** has the highest average sale per customer and the highest average order value. It would be advisable to concentrate the marketing efforts in these countries. The countries with the lowest sales are **Portugal** and **India**. "
      ]
    },
    {
      "cell_type": "markdown",
      "metadata": {
        "id": "PCUmtejDEpgQ",
        "colab_type": "text"
      },
      "source": [
        "## 4. Sales agents performance"
      ]
    },
    {
      "cell_type": "markdown",
      "metadata": {
        "id": "f9H0NunVEpix",
        "colab_type": "text"
      },
      "source": [
        "This section will answer the question: **How do the sales support agents perform?**\n",
        "\n",
        "Below is an overview of Chinook's employees and its reporting structure. There are three Sales Support Agents who report to Nancy Edwards, who is the Sales Manager at Chinook. The names of the Sales Support Agents are:\n",
        "* Jane Peacock\n",
        "* Margaret Park\n",
        "* Steve Johnson"
      ]
    },
    {
      "cell_type": "code",
      "metadata": {
        "id": "MlP7orjQSVvT",
        "colab_type": "code",
        "colab": {
          "base_uri": "https://localhost:8080/",
          "height": 213
        },
        "outputId": "175ab432-675b-43c2-a32f-5f3c2a136477"
      },
      "source": [
        "%%sql\n",
        "\n",
        "SELECT\n",
        "    e1.first_name || \" \" || e1.last_name employee_name,\n",
        "    e1.title employee_title,\n",
        "    e2.first_name || \" \" || e2.last_name supervisor_name,\n",
        "    e2.title supervisor_title\n",
        "FROM employee e1\n",
        "LEFT JOIN employee e2 ON e1.reports_to = e2.employee_id\n",
        "ORDER BY 1;"
      ],
      "execution_count": null,
      "outputs": [
        {
          "output_type": "stream",
          "text": [
            " * sqlite:///chinook.db\n",
            "Done.\n"
          ],
          "name": "stdout"
        },
        {
          "output_type": "execute_result",
          "data": {
            "text/html": [
              "<table>\n",
              "    <tr>\n",
              "        <th>employee_name</th>\n",
              "        <th>employee_title</th>\n",
              "        <th>supervisor_name</th>\n",
              "        <th>supervisor_title</th>\n",
              "    </tr>\n",
              "    <tr>\n",
              "        <td>Andrew Adams</td>\n",
              "        <td>General Manager</td>\n",
              "        <td>None</td>\n",
              "        <td>None</td>\n",
              "    </tr>\n",
              "    <tr>\n",
              "        <td>Jane Peacock</td>\n",
              "        <td>Sales Support Agent</td>\n",
              "        <td>Nancy Edwards</td>\n",
              "        <td>Sales Manager</td>\n",
              "    </tr>\n",
              "    <tr>\n",
              "        <td>Laura Callahan</td>\n",
              "        <td>IT Staff</td>\n",
              "        <td>Michael Mitchell</td>\n",
              "        <td>IT Manager</td>\n",
              "    </tr>\n",
              "    <tr>\n",
              "        <td>Margaret Park</td>\n",
              "        <td>Sales Support Agent</td>\n",
              "        <td>Nancy Edwards</td>\n",
              "        <td>Sales Manager</td>\n",
              "    </tr>\n",
              "    <tr>\n",
              "        <td>Michael Mitchell</td>\n",
              "        <td>IT Manager</td>\n",
              "        <td>Andrew Adams</td>\n",
              "        <td>General Manager</td>\n",
              "    </tr>\n",
              "    <tr>\n",
              "        <td>Nancy Edwards</td>\n",
              "        <td>Sales Manager</td>\n",
              "        <td>Andrew Adams</td>\n",
              "        <td>General Manager</td>\n",
              "    </tr>\n",
              "    <tr>\n",
              "        <td>Robert King</td>\n",
              "        <td>IT Staff</td>\n",
              "        <td>Michael Mitchell</td>\n",
              "        <td>IT Manager</td>\n",
              "    </tr>\n",
              "    <tr>\n",
              "        <td>Steve Johnson</td>\n",
              "        <td>Sales Support Agent</td>\n",
              "        <td>Nancy Edwards</td>\n",
              "        <td>Sales Manager</td>\n",
              "    </tr>\n",
              "</table>"
            ],
            "text/plain": [
              "[('Andrew Adams', 'General Manager', None, None),\n",
              " ('Jane Peacock', 'Sales Support Agent', 'Nancy Edwards', 'Sales Manager'),\n",
              " ('Laura Callahan', 'IT Staff', 'Michael Mitchell', 'IT Manager'),\n",
              " ('Margaret Park', 'Sales Support Agent', 'Nancy Edwards', 'Sales Manager'),\n",
              " ('Michael Mitchell', 'IT Manager', 'Andrew Adams', 'General Manager'),\n",
              " ('Nancy Edwards', 'Sales Manager', 'Andrew Adams', 'General Manager'),\n",
              " ('Robert King', 'IT Staff', 'Michael Mitchell', 'IT Manager'),\n",
              " ('Steve Johnson', 'Sales Support Agent', 'Nancy Edwards', 'Sales Manager')]"
            ]
          },
          "metadata": {
            "tags": []
          },
          "execution_count": 12
        }
      ]
    },
    {
      "cell_type": "markdown",
      "metadata": {
        "id": "GFk6ZIvCt8G3",
        "colab_type": "text"
      },
      "source": [
        "Each customer for the Chinook store gets assigned to a sales support agent within the company when they first make a purchase. Below is a breakdown of the performance of each sales support agent. Additional columns with information on the agents are included, to explain any variance that might be influencing their sales performance."
      ]
    },
    {
      "cell_type": "code",
      "metadata": {
        "id": "VhlkFHxRFAzz",
        "colab_type": "code",
        "colab": {
          "base_uri": "https://localhost:8080/",
          "height": 124
        },
        "outputId": "8ef44886-cedf-42f8-bceb-108e8c5a0175"
      },
      "source": [
        "%%sql\n",
        "\n",
        "WITH total_purchase_per_cust AS\n",
        "            (\n",
        "                SELECT c.support_rep_id ,\n",
        "                        c.customer_id cust_id,\n",
        "                        SUM(i.total) total_per_customer\n",
        "                FROM customer c\n",
        "                INNER JOIN invoice i ON i.customer_id=c.customer_id\n",
        "                GROUP BY 1, 2\n",
        "                ORDER By 1\n",
        "            ),\n",
        "    total_sales_per_emp AS\n",
        "                (\n",
        "                    SELECT tpc.support_rep_id,\n",
        "                            SUM(tpc.total_per_customer) total_sales_by_emp\n",
        "                    \n",
        "                    FROM total_purchase_per_cust tpc\n",
        "                     GROUP BY 1\n",
        "                            \n",
        "                )\n",
        "SELECT \n",
        "    e.employee_id,\n",
        "    e.first_name||\" \"||e.last_name employee_name,\n",
        "    round(tse.total_sales_by_emp,3) total_sales_by_employee,\n",
        "    e.hire_date,\n",
        "    e.city,\n",
        "    e.birthdate\n",
        "FROM employee e\n",
        "INNER JOIN total_sales_per_emp tse ON tse.support_rep_id=e.employee_id\n",
        "\n",
        "ORDER BY 1,2 DESC"
      ],
      "execution_count": null,
      "outputs": [
        {
          "output_type": "stream",
          "text": [
            " * sqlite:///chinook.db\n",
            "Done.\n"
          ],
          "name": "stdout"
        },
        {
          "output_type": "execute_result",
          "data": {
            "text/html": [
              "<table>\n",
              "    <tr>\n",
              "        <th>employee_id</th>\n",
              "        <th>employee_name</th>\n",
              "        <th>total_sales_by_employee</th>\n",
              "        <th>hire_date</th>\n",
              "        <th>city</th>\n",
              "        <th>birthdate</th>\n",
              "    </tr>\n",
              "    <tr>\n",
              "        <td>3</td>\n",
              "        <td>Jane Peacock</td>\n",
              "        <td>1731.51</td>\n",
              "        <td>2017-04-01 00:00:00</td>\n",
              "        <td>Calgary</td>\n",
              "        <td>1973-08-29 00:00:00</td>\n",
              "    </tr>\n",
              "    <tr>\n",
              "        <td>4</td>\n",
              "        <td>Margaret Park</td>\n",
              "        <td>1584.0</td>\n",
              "        <td>2017-05-03 00:00:00</td>\n",
              "        <td>Calgary</td>\n",
              "        <td>1947-09-19 00:00:00</td>\n",
              "    </tr>\n",
              "    <tr>\n",
              "        <td>5</td>\n",
              "        <td>Steve Johnson</td>\n",
              "        <td>1393.92</td>\n",
              "        <td>2017-10-17 00:00:00</td>\n",
              "        <td>Calgary</td>\n",
              "        <td>1965-03-03 00:00:00</td>\n",
              "    </tr>\n",
              "</table>"
            ],
            "text/plain": [
              "[(3, 'Jane Peacock', 1731.51, '2017-04-01 00:00:00', 'Calgary', '1973-08-29 00:00:00'),\n",
              " (4, 'Margaret Park', 1584.0, '2017-05-03 00:00:00', 'Calgary', '1947-09-19 00:00:00'),\n",
              " (5, 'Steve Johnson', 1393.92, '2017-10-17 00:00:00', 'Calgary', '1965-03-03 00:00:00')]"
            ]
          },
          "metadata": {
            "tags": []
          },
          "execution_count": 13
        }
      ]
    },
    {
      "cell_type": "markdown",
      "metadata": {
        "id": "VoDHy-hzvKJi",
        "colab_type": "text"
      },
      "source": [
        "We can see that **Jane Peacock** achieved the highest sales, while Steve Johnson has the lowest performance. There is about 20% difference in sales turnover between the two Sales Support Agents. Steve does have about 6 months fewer work experience in the position than his colleagues, which could be an explanation. Jane is the youngest of the three, which may explain why she connects better to a younger audience. It might be worth investigating how to stimulate the sales team, for instance by optimizing the commission scheme."
      ]
    },
    {
      "cell_type": "markdown",
      "metadata": {
        "id": "P5nbPugufcMS",
        "colab_type": "text"
      },
      "source": [
        "![Queen album cover](https://i.pinimg.com/originals/35/68/65/3568656e701dd36aaa57c29f228b7e1b.jpg)"
      ]
    },
    {
      "cell_type": "markdown",
      "metadata": {
        "id": "YUF3mbv4Epl3",
        "colab_type": "text"
      },
      "source": [
        "## 5. Customer base"
      ]
    },
    {
      "cell_type": "markdown",
      "metadata": {
        "id": "gSbqikV2Eppb",
        "colab_type": "text"
      },
      "source": [
        "In this section, the customer base is analysed at a deeper level. It will answer the following questions:\n",
        "* Which customers have spent over USD 90?\n",
        "* Who are the best customers per country?\n",
        "* Who are the best customers in the USA?\n",
        "\n",
        "The first question is answered below:"
      ]
    },
    {
      "cell_type": "code",
      "metadata": {
        "id": "7AT8KxqkM7gF",
        "colab_type": "code",
        "colab": {
          "base_uri": "https://localhost:8080/",
          "height": 962
        },
        "outputId": "b8dda348-4bbc-4617-fcaa-94e2b444f098"
      },
      "source": [
        "%%sql\n",
        "\n",
        "CREATE VIEW customer_gt_90_dollars AS \n",
        "    SELECT\n",
        "        c.*\n",
        "    FROM invoice i\n",
        "    INNER JOIN customer c ON i.customer_id = c.customer_id\n",
        "    GROUP BY 1\n",
        "    HAVING SUM(i.total) > 90;\n",
        "SELECT * FROM customer_gt_90_dollars;"
      ],
      "execution_count": null,
      "outputs": [
        {
          "output_type": "stream",
          "text": [
            " * sqlite:///chinook.db\n",
            "Done.\n",
            "Done.\n"
          ],
          "name": "stdout"
        },
        {
          "output_type": "execute_result",
          "data": {
            "text/html": [
              "<table>\n",
              "    <tr>\n",
              "        <th>customer_id</th>\n",
              "        <th>first_name</th>\n",
              "        <th>last_name</th>\n",
              "        <th>company</th>\n",
              "        <th>address</th>\n",
              "        <th>city</th>\n",
              "        <th>state</th>\n",
              "        <th>country</th>\n",
              "        <th>postal_code</th>\n",
              "        <th>phone</th>\n",
              "        <th>fax</th>\n",
              "        <th>email</th>\n",
              "        <th>support_rep_id</th>\n",
              "    </tr>\n",
              "    <tr>\n",
              "        <td>1</td>\n",
              "        <td>Luís</td>\n",
              "        <td>Gonçalves</td>\n",
              "        <td>Embraer - Empresa Brasileira de Aeronáutica S.A.</td>\n",
              "        <td>Av. Brigadeiro Faria Lima, 2170</td>\n",
              "        <td>São José dos Campos</td>\n",
              "        <td>SP</td>\n",
              "        <td>Brazil</td>\n",
              "        <td>12227-000</td>\n",
              "        <td>+55 (12) 3923-5555</td>\n",
              "        <td>+55 (12) 3923-5566</td>\n",
              "        <td>luisg@embraer.com.br</td>\n",
              "        <td>3</td>\n",
              "    </tr>\n",
              "    <tr>\n",
              "        <td>3</td>\n",
              "        <td>François</td>\n",
              "        <td>Tremblay</td>\n",
              "        <td>None</td>\n",
              "        <td>1498 rue Bélanger</td>\n",
              "        <td>Montréal</td>\n",
              "        <td>QC</td>\n",
              "        <td>Canada</td>\n",
              "        <td>H2G 1A7</td>\n",
              "        <td>+1 (514) 721-4711</td>\n",
              "        <td>None</td>\n",
              "        <td>ftremblay@gmail.com</td>\n",
              "        <td>3</td>\n",
              "    </tr>\n",
              "    <tr>\n",
              "        <td>5</td>\n",
              "        <td>František</td>\n",
              "        <td>Wichterlová</td>\n",
              "        <td>JetBrains s.r.o.</td>\n",
              "        <td>Klanova 9/506</td>\n",
              "        <td>Prague</td>\n",
              "        <td>None</td>\n",
              "        <td>Czech Republic</td>\n",
              "        <td>14700</td>\n",
              "        <td>+420 2 4172 5555</td>\n",
              "        <td>+420 2 4172 5555</td>\n",
              "        <td>frantisekw@jetbrains.com</td>\n",
              "        <td>4</td>\n",
              "    </tr>\n",
              "    <tr>\n",
              "        <td>6</td>\n",
              "        <td>Helena</td>\n",
              "        <td>Holý</td>\n",
              "        <td>None</td>\n",
              "        <td>Rilská 3174/6</td>\n",
              "        <td>Prague</td>\n",
              "        <td>None</td>\n",
              "        <td>Czech Republic</td>\n",
              "        <td>14300</td>\n",
              "        <td>+420 2 4177 0449</td>\n",
              "        <td>None</td>\n",
              "        <td>hholy@gmail.com</td>\n",
              "        <td>5</td>\n",
              "    </tr>\n",
              "    <tr>\n",
              "        <td>13</td>\n",
              "        <td>Fernanda</td>\n",
              "        <td>Ramos</td>\n",
              "        <td>None</td>\n",
              "        <td>Qe 7 Bloco G</td>\n",
              "        <td>Brasília</td>\n",
              "        <td>DF</td>\n",
              "        <td>Brazil</td>\n",
              "        <td>71020-677</td>\n",
              "        <td>+55 (61) 3363-5547</td>\n",
              "        <td>+55 (61) 3363-7855</td>\n",
              "        <td>fernadaramos4@uol.com.br</td>\n",
              "        <td>4</td>\n",
              "    </tr>\n",
              "    <tr>\n",
              "        <td>17</td>\n",
              "        <td>Jack</td>\n",
              "        <td>Smith</td>\n",
              "        <td>Microsoft Corporation</td>\n",
              "        <td>1 Microsoft Way</td>\n",
              "        <td>Redmond</td>\n",
              "        <td>WA</td>\n",
              "        <td>USA</td>\n",
              "        <td>98052-8300</td>\n",
              "        <td>+1 (425) 882-8080</td>\n",
              "        <td>+1 (425) 882-8081</td>\n",
              "        <td>jacksmith@microsoft.com</td>\n",
              "        <td>5</td>\n",
              "    </tr>\n",
              "    <tr>\n",
              "        <td>20</td>\n",
              "        <td>Dan</td>\n",
              "        <td>Miller</td>\n",
              "        <td>None</td>\n",
              "        <td>541 Del Medio Avenue</td>\n",
              "        <td>Mountain View</td>\n",
              "        <td>CA</td>\n",
              "        <td>USA</td>\n",
              "        <td>94040-111</td>\n",
              "        <td>+1 (650) 644-3358</td>\n",
              "        <td>None</td>\n",
              "        <td>dmiller@comcast.com</td>\n",
              "        <td>4</td>\n",
              "    </tr>\n",
              "    <tr>\n",
              "        <td>21</td>\n",
              "        <td>Kathy</td>\n",
              "        <td>Chase</td>\n",
              "        <td>None</td>\n",
              "        <td>801 W 4th Street</td>\n",
              "        <td>Reno</td>\n",
              "        <td>NV</td>\n",
              "        <td>USA</td>\n",
              "        <td>89503</td>\n",
              "        <td>+1 (775) 223-7665</td>\n",
              "        <td>None</td>\n",
              "        <td>kachase@hotmail.com</td>\n",
              "        <td>5</td>\n",
              "    </tr>\n",
              "    <tr>\n",
              "        <td>22</td>\n",
              "        <td>Heather</td>\n",
              "        <td>Leacock</td>\n",
              "        <td>None</td>\n",
              "        <td>120 S Orange Ave</td>\n",
              "        <td>Orlando</td>\n",
              "        <td>FL</td>\n",
              "        <td>USA</td>\n",
              "        <td>32801</td>\n",
              "        <td>+1 (407) 999-7788</td>\n",
              "        <td>None</td>\n",
              "        <td>hleacock@gmail.com</td>\n",
              "        <td>4</td>\n",
              "    </tr>\n",
              "    <tr>\n",
              "        <td>30</td>\n",
              "        <td>Edward</td>\n",
              "        <td>Francis</td>\n",
              "        <td>None</td>\n",
              "        <td>230 Elgin Street</td>\n",
              "        <td>Ottawa</td>\n",
              "        <td>ON</td>\n",
              "        <td>Canada</td>\n",
              "        <td>K2P 1L7</td>\n",
              "        <td>+1 (613) 234-3322</td>\n",
              "        <td>None</td>\n",
              "        <td>edfrancis@yachoo.ca</td>\n",
              "        <td>3</td>\n",
              "    </tr>\n",
              "    <tr>\n",
              "        <td>34</td>\n",
              "        <td>João</td>\n",
              "        <td>Fernandes</td>\n",
              "        <td>None</td>\n",
              "        <td>Rua da Assunção 53</td>\n",
              "        <td>Lisbon</td>\n",
              "        <td>None</td>\n",
              "        <td>Portugal</td>\n",
              "        <td>None</td>\n",
              "        <td>+351 (213) 466-111</td>\n",
              "        <td>None</td>\n",
              "        <td>jfernandes@yahoo.pt</td>\n",
              "        <td>4</td>\n",
              "    </tr>\n",
              "    <tr>\n",
              "        <td>37</td>\n",
              "        <td>Fynn</td>\n",
              "        <td>Zimmermann</td>\n",
              "        <td>None</td>\n",
              "        <td>Berger Straße 10</td>\n",
              "        <td>Frankfurt</td>\n",
              "        <td>None</td>\n",
              "        <td>Germany</td>\n",
              "        <td>60316</td>\n",
              "        <td>+49 069 40598889</td>\n",
              "        <td>None</td>\n",
              "        <td>fzimmermann@yahoo.de</td>\n",
              "        <td>3</td>\n",
              "    </tr>\n",
              "    <tr>\n",
              "        <td>42</td>\n",
              "        <td>Wyatt</td>\n",
              "        <td>Girard</td>\n",
              "        <td>None</td>\n",
              "        <td>9, Place Louis Barthou</td>\n",
              "        <td>Bordeaux</td>\n",
              "        <td>None</td>\n",
              "        <td>France</td>\n",
              "        <td>33000</td>\n",
              "        <td>+33 05 56 96 96 96</td>\n",
              "        <td>None</td>\n",
              "        <td>wyatt.girard@yahoo.fr</td>\n",
              "        <td>3</td>\n",
              "    </tr>\n",
              "    <tr>\n",
              "        <td>46</td>\n",
              "        <td>Hugh</td>\n",
              "        <td>O&#x27;Reilly</td>\n",
              "        <td>None</td>\n",
              "        <td>3 Chatham Street</td>\n",
              "        <td>Dublin</td>\n",
              "        <td>Dublin</td>\n",
              "        <td>Ireland</td>\n",
              "        <td>None</td>\n",
              "        <td>+353 01 6792424</td>\n",
              "        <td>None</td>\n",
              "        <td>hughoreilly@apple.ie</td>\n",
              "        <td>3</td>\n",
              "    </tr>\n",
              "    <tr>\n",
              "        <td>50</td>\n",
              "        <td>Enrique</td>\n",
              "        <td>Muñoz</td>\n",
              "        <td>None</td>\n",
              "        <td>C/ San Bernardo 85</td>\n",
              "        <td>Madrid</td>\n",
              "        <td>None</td>\n",
              "        <td>Spain</td>\n",
              "        <td>28015</td>\n",
              "        <td>+34 914 454 454</td>\n",
              "        <td>None</td>\n",
              "        <td>enrique_munoz@yahoo.es</td>\n",
              "        <td>5</td>\n",
              "    </tr>\n",
              "    <tr>\n",
              "        <td>53</td>\n",
              "        <td>Phil</td>\n",
              "        <td>Hughes</td>\n",
              "        <td>None</td>\n",
              "        <td>113 Lupus St</td>\n",
              "        <td>London</td>\n",
              "        <td>None</td>\n",
              "        <td>United Kingdom</td>\n",
              "        <td>SW1V 3EN</td>\n",
              "        <td>+44 020 7976 5722</td>\n",
              "        <td>None</td>\n",
              "        <td>phil.hughes@gmail.com</td>\n",
              "        <td>3</td>\n",
              "    </tr>\n",
              "    <tr>\n",
              "        <td>57</td>\n",
              "        <td>Luis</td>\n",
              "        <td>Rojas</td>\n",
              "        <td>None</td>\n",
              "        <td>Calle Lira, 198</td>\n",
              "        <td>Santiago</td>\n",
              "        <td>None</td>\n",
              "        <td>Chile</td>\n",
              "        <td>None</td>\n",
              "        <td>+56 (0)2 635 4444</td>\n",
              "        <td>None</td>\n",
              "        <td>luisrojas@yahoo.cl</td>\n",
              "        <td>5</td>\n",
              "    </tr>\n",
              "    <tr>\n",
              "        <td>58</td>\n",
              "        <td>Manoj</td>\n",
              "        <td>Pareek</td>\n",
              "        <td>None</td>\n",
              "        <td>12,Community Centre</td>\n",
              "        <td>Delhi</td>\n",
              "        <td>None</td>\n",
              "        <td>India</td>\n",
              "        <td>110017</td>\n",
              "        <td>+91 0124 39883988</td>\n",
              "        <td>None</td>\n",
              "        <td>manoj.pareek@rediff.com</td>\n",
              "        <td>3</td>\n",
              "    </tr>\n",
              "</table>"
            ],
            "text/plain": [
              "[(1, 'Luís', 'Gonçalves', 'Embraer - Empresa Brasileira de Aeronáutica S.A.', 'Av. Brigadeiro Faria Lima, 2170', 'São José dos Campos', 'SP', 'Brazil', '12227-000', '+55 (12) 3923-5555', '+55 (12) 3923-5566', 'luisg@embraer.com.br', 3),\n",
              " (3, 'François', 'Tremblay', None, '1498 rue Bélanger', 'Montréal', 'QC', 'Canada', 'H2G 1A7', '+1 (514) 721-4711', None, 'ftremblay@gmail.com', 3),\n",
              " (5, 'František', 'Wichterlová', 'JetBrains s.r.o.', 'Klanova 9/506', 'Prague', None, 'Czech Republic', '14700', '+420 2 4172 5555', '+420 2 4172 5555', 'frantisekw@jetbrains.com', 4),\n",
              " (6, 'Helena', 'Holý', None, 'Rilská 3174/6', 'Prague', None, 'Czech Republic', '14300', '+420 2 4177 0449', None, 'hholy@gmail.com', 5),\n",
              " (13, 'Fernanda', 'Ramos', None, 'Qe 7 Bloco G', 'Brasília', 'DF', 'Brazil', '71020-677', '+55 (61) 3363-5547', '+55 (61) 3363-7855', 'fernadaramos4@uol.com.br', 4),\n",
              " (17, 'Jack', 'Smith', 'Microsoft Corporation', '1 Microsoft Way', 'Redmond', 'WA', 'USA', '98052-8300', '+1 (425) 882-8080', '+1 (425) 882-8081', 'jacksmith@microsoft.com', 5),\n",
              " (20, 'Dan', 'Miller', None, '541 Del Medio Avenue', 'Mountain View', 'CA', 'USA', '94040-111', '+1 (650) 644-3358', None, 'dmiller@comcast.com', 4),\n",
              " (21, 'Kathy', 'Chase', None, '801 W 4th Street', 'Reno', 'NV', 'USA', '89503', '+1 (775) 223-7665', None, 'kachase@hotmail.com', 5),\n",
              " (22, 'Heather', 'Leacock', None, '120 S Orange Ave', 'Orlando', 'FL', 'USA', '32801', '+1 (407) 999-7788', None, 'hleacock@gmail.com', 4),\n",
              " (30, 'Edward', 'Francis', None, '230 Elgin Street', 'Ottawa', 'ON', 'Canada', 'K2P 1L7', '+1 (613) 234-3322', None, 'edfrancis@yachoo.ca', 3),\n",
              " (34, 'João', 'Fernandes', None, 'Rua da Assunção 53', 'Lisbon', None, 'Portugal', None, '+351 (213) 466-111', None, 'jfernandes@yahoo.pt', 4),\n",
              " (37, 'Fynn', 'Zimmermann', None, 'Berger Straße 10', 'Frankfurt', None, 'Germany', '60316', '+49 069 40598889', None, 'fzimmermann@yahoo.de', 3),\n",
              " (42, 'Wyatt', 'Girard', None, '9, Place Louis Barthou', 'Bordeaux', None, 'France', '33000', '+33 05 56 96 96 96', None, 'wyatt.girard@yahoo.fr', 3),\n",
              " (46, 'Hugh', \"O'Reilly\", None, '3 Chatham Street', 'Dublin', 'Dublin', 'Ireland', None, '+353 01 6792424', None, 'hughoreilly@apple.ie', 3),\n",
              " (50, 'Enrique', 'Muñoz', None, 'C/ San Bernardo 85', 'Madrid', None, 'Spain', '28015', '+34 914 454 454', None, 'enrique_munoz@yahoo.es', 5),\n",
              " (53, 'Phil', 'Hughes', None, '113 Lupus St', 'London', None, 'United Kingdom', 'SW1V 3EN', '+44 020 7976 5722', None, 'phil.hughes@gmail.com', 3),\n",
              " (57, 'Luis', 'Rojas', None, 'Calle Lira, 198', 'Santiago', None, 'Chile', None, '+56 (0)2 635 4444', None, 'luisrojas@yahoo.cl', 5),\n",
              " (58, 'Manoj', 'Pareek', None, '12,Community Centre', 'Delhi', None, 'India', '110017', '+91 0124 39883988', None, 'manoj.pareek@rediff.com', 3)]"
            ]
          },
          "metadata": {
            "tags": []
          },
          "execution_count": 14
        }
      ]
    },
    {
      "cell_type": "markdown",
      "metadata": {
        "id": "4NmvJ24y4Glr",
        "colab_type": "text"
      },
      "source": [
        "Customers that spend over USD 90 are of **high value to Chinook** and for this reason, it is important to maintain warm relations with these individuals. They can be marketed directly with exclusive offers and promotions. \n",
        "\n",
        "Below follows the answer to the next question:"
      ]
    },
    {
      "cell_type": "code",
      "metadata": {
        "id": "9iK6dkNUlfHj",
        "colab_type": "code",
        "colab": {
          "base_uri": "https://localhost:8080/",
          "height": 497
        },
        "outputId": "abe5e9b8-dfd0-498e-f12c-45b329442b7e"
      },
      "source": [
        "%%sql\n",
        "\n",
        "WITH\n",
        "    customer_country_purchases AS\n",
        "        (\n",
        "         SELECT\n",
        "             i.customer_id,\n",
        "             c.country,\n",
        "             ROUND(SUM(i.total),2) total_purchases\n",
        "         FROM invoice i\n",
        "         INNER JOIN customer c ON i.customer_id = c.customer_id\n",
        "         GROUP BY 1, 2\n",
        "        ),\n",
        "    country_max_purchase AS\n",
        "        (\n",
        "         SELECT\n",
        "             country,\n",
        "             MAX(total_purchases) max_purchase\n",
        "         FROM customer_country_purchases\n",
        "         GROUP BY 1\n",
        "        ),\n",
        "    country_best_customer AS\n",
        "        (\n",
        "         SELECT\n",
        "            cmp.country,\n",
        "            cmp.max_purchase,\n",
        "            (\n",
        "             SELECT ccp.customer_id\n",
        "             FROM customer_country_purchases ccp\n",
        "             WHERE ccp.country = cmp.country AND cmp.max_purchase = ccp.total_purchases\n",
        "            ) customer_id\n",
        "         FROM country_max_purchase cmp\n",
        "        )\n",
        "SELECT\n",
        "    cbc.country country,\n",
        "    c.first_name || \" \" || c.last_name customer_name,\n",
        "    cbc.max_purchase total_purchased\n",
        "FROM customer c\n",
        "INNER JOIN country_best_customer cbc ON cbc.customer_id = c.customer_id\n",
        "ORDER BY 1 ASC"
      ],
      "execution_count": null,
      "outputs": [
        {
          "output_type": "stream",
          "text": [
            " * sqlite:///chinook.db\n",
            "Done.\n"
          ],
          "name": "stdout"
        },
        {
          "output_type": "execute_result",
          "data": {
            "text/html": [
              "<table>\n",
              "    <tr>\n",
              "        <th>country</th>\n",
              "        <th>customer_name</th>\n",
              "        <th>total_purchased</th>\n",
              "    </tr>\n",
              "    <tr>\n",
              "        <td>Argentina</td>\n",
              "        <td>Diego Gutiérrez</td>\n",
              "        <td>39.6</td>\n",
              "    </tr>\n",
              "    <tr>\n",
              "        <td>Australia</td>\n",
              "        <td>Mark Taylor</td>\n",
              "        <td>81.18</td>\n",
              "    </tr>\n",
              "    <tr>\n",
              "        <td>Austria</td>\n",
              "        <td>Astrid Gruber</td>\n",
              "        <td>69.3</td>\n",
              "    </tr>\n",
              "    <tr>\n",
              "        <td>Belgium</td>\n",
              "        <td>Daan Peeters</td>\n",
              "        <td>60.39</td>\n",
              "    </tr>\n",
              "    <tr>\n",
              "        <td>Brazil</td>\n",
              "        <td>Luís Gonçalves</td>\n",
              "        <td>108.9</td>\n",
              "    </tr>\n",
              "    <tr>\n",
              "        <td>Canada</td>\n",
              "        <td>François Tremblay</td>\n",
              "        <td>99.99</td>\n",
              "    </tr>\n",
              "    <tr>\n",
              "        <td>Chile</td>\n",
              "        <td>Luis Rojas</td>\n",
              "        <td>97.02</td>\n",
              "    </tr>\n",
              "    <tr>\n",
              "        <td>Czech Republic</td>\n",
              "        <td>František Wichterlová</td>\n",
              "        <td>144.54</td>\n",
              "    </tr>\n",
              "    <tr>\n",
              "        <td>Denmark</td>\n",
              "        <td>Kara Nielsen</td>\n",
              "        <td>37.62</td>\n",
              "    </tr>\n",
              "    <tr>\n",
              "        <td>Finland</td>\n",
              "        <td>Terhi Hämäläinen</td>\n",
              "        <td>79.2</td>\n",
              "    </tr>\n",
              "    <tr>\n",
              "        <td>France</td>\n",
              "        <td>Wyatt Girard</td>\n",
              "        <td>99.99</td>\n",
              "    </tr>\n",
              "    <tr>\n",
              "        <td>Germany</td>\n",
              "        <td>Fynn Zimmermann</td>\n",
              "        <td>94.05</td>\n",
              "    </tr>\n",
              "    <tr>\n",
              "        <td>Hungary</td>\n",
              "        <td>Ladislav Kovács</td>\n",
              "        <td>78.21</td>\n",
              "    </tr>\n",
              "    <tr>\n",
              "        <td>India</td>\n",
              "        <td>Manoj Pareek</td>\n",
              "        <td>111.87</td>\n",
              "    </tr>\n",
              "    <tr>\n",
              "        <td>Ireland</td>\n",
              "        <td>Hugh O&#x27;Reilly</td>\n",
              "        <td>114.84</td>\n",
              "    </tr>\n",
              "    <tr>\n",
              "        <td>Italy</td>\n",
              "        <td>Lucas Mancini</td>\n",
              "        <td>50.49</td>\n",
              "    </tr>\n",
              "    <tr>\n",
              "        <td>Netherlands</td>\n",
              "        <td>Johannes Van der Berg</td>\n",
              "        <td>65.34</td>\n",
              "    </tr>\n",
              "    <tr>\n",
              "        <td>Norway</td>\n",
              "        <td>Bjørn Hansen</td>\n",
              "        <td>72.27</td>\n",
              "    </tr>\n",
              "    <tr>\n",
              "        <td>Poland</td>\n",
              "        <td>Stanisław Wójcik</td>\n",
              "        <td>76.23</td>\n",
              "    </tr>\n",
              "    <tr>\n",
              "        <td>Portugal</td>\n",
              "        <td>João Fernandes</td>\n",
              "        <td>102.96</td>\n",
              "    </tr>\n",
              "    <tr>\n",
              "        <td>Spain</td>\n",
              "        <td>Enrique Muñoz</td>\n",
              "        <td>98.01</td>\n",
              "    </tr>\n",
              "    <tr>\n",
              "        <td>Sweden</td>\n",
              "        <td>Joakim Johansson</td>\n",
              "        <td>75.24</td>\n",
              "    </tr>\n",
              "    <tr>\n",
              "        <td>USA</td>\n",
              "        <td>Jack Smith</td>\n",
              "        <td>98.01</td>\n",
              "    </tr>\n",
              "    <tr>\n",
              "        <td>United Kingdom</td>\n",
              "        <td>Phil Hughes</td>\n",
              "        <td>98.01</td>\n",
              "    </tr>\n",
              "</table>"
            ],
            "text/plain": [
              "[('Argentina', 'Diego Gutiérrez', 39.6),\n",
              " ('Australia', 'Mark Taylor', 81.18),\n",
              " ('Austria', 'Astrid Gruber', 69.3),\n",
              " ('Belgium', 'Daan Peeters', 60.39),\n",
              " ('Brazil', 'Luís Gonçalves', 108.9),\n",
              " ('Canada', 'François Tremblay', 99.99),\n",
              " ('Chile', 'Luis Rojas', 97.02),\n",
              " ('Czech Republic', 'František Wichterlová', 144.54),\n",
              " ('Denmark', 'Kara Nielsen', 37.62),\n",
              " ('Finland', 'Terhi Hämäläinen', 79.2),\n",
              " ('France', 'Wyatt Girard', 99.99),\n",
              " ('Germany', 'Fynn Zimmermann', 94.05),\n",
              " ('Hungary', 'Ladislav Kovács', 78.21),\n",
              " ('India', 'Manoj Pareek', 111.87),\n",
              " ('Ireland', \"Hugh O'Reilly\", 114.84),\n",
              " ('Italy', 'Lucas Mancini', 50.49),\n",
              " ('Netherlands', 'Johannes Van der Berg', 65.34),\n",
              " ('Norway', 'Bjørn Hansen', 72.27),\n",
              " ('Poland', 'Stanisław Wójcik', 76.23),\n",
              " ('Portugal', 'João Fernandes', 102.96),\n",
              " ('Spain', 'Enrique Muñoz', 98.01),\n",
              " ('Sweden', 'Joakim Johansson', 75.24),\n",
              " ('USA', 'Jack Smith', 98.01),\n",
              " ('United Kingdom', 'Phil Hughes', 98.01)]"
            ]
          },
          "metadata": {
            "tags": []
          },
          "execution_count": 15
        }
      ]
    },
    {
      "cell_type": "markdown",
      "metadata": {
        "id": "_xS8-N_J6RgG",
        "colab_type": "text"
      },
      "source": [
        "These are the best customers per country. As mentioned above, all customers that spend over USD 90 on Chinook are considered of **high value** and can be targeted with **direct marketing**, based on their previous purchases and preferences.\n",
        "\n",
        "As demonstrated earlier, the USA is the primary market for Chinook. Below is an overview of the most valuable customers for this country."
      ]
    },
    {
      "cell_type": "code",
      "metadata": {
        "id": "NzQvJ7TN2yCh",
        "colab_type": "code",
        "colab": {
          "base_uri": "https://localhost:8080/",
          "height": 302
        },
        "outputId": "e079fcc0-9cc0-488c-d11b-8a3b021b1b98"
      },
      "source": [
        "%%sql\n",
        "\n",
        "WITH\n",
        "    customers_usa AS\n",
        "        (\n",
        "        SELECT * FROM customer\n",
        "        WHERE country = \"USA\"\n",
        "        ),\n",
        "    sales_per_customer AS\n",
        "        (\n",
        "         SELECT\n",
        "             customer_id,\n",
        "             ROUND(SUM(total),2) total\n",
        "         FROM invoice\n",
        "         GROUP BY 1\n",
        "        )\n",
        "\n",
        "SELECT\n",
        "    cu.first_name || \" \" || cu.last_name customer_name,\n",
        "    spc.total total_purchases\n",
        "FROM customers_usa cu\n",
        "INNER JOIN sales_per_customer spc ON cu.customer_id = spc.customer_id\n",
        "ORDER BY 2 DESC;"
      ],
      "execution_count": null,
      "outputs": [
        {
          "output_type": "stream",
          "text": [
            " * sqlite:///chinook.db\n",
            "Done.\n"
          ],
          "name": "stdout"
        },
        {
          "output_type": "execute_result",
          "data": {
            "text/html": [
              "<table>\n",
              "    <tr>\n",
              "        <th>customer_name</th>\n",
              "        <th>total_purchases</th>\n",
              "    </tr>\n",
              "    <tr>\n",
              "        <td>Jack Smith</td>\n",
              "        <td>98.01</td>\n",
              "    </tr>\n",
              "    <tr>\n",
              "        <td>Dan Miller</td>\n",
              "        <td>95.04</td>\n",
              "    </tr>\n",
              "    <tr>\n",
              "        <td>Heather Leacock</td>\n",
              "        <td>92.07</td>\n",
              "    </tr>\n",
              "    <tr>\n",
              "        <td>Kathy Chase</td>\n",
              "        <td>91.08</td>\n",
              "    </tr>\n",
              "    <tr>\n",
              "        <td>Richard Cunningham</td>\n",
              "        <td>86.13</td>\n",
              "    </tr>\n",
              "    <tr>\n",
              "        <td>Patrick Gray</td>\n",
              "        <td>84.15</td>\n",
              "    </tr>\n",
              "    <tr>\n",
              "        <td>Michelle Brooks</td>\n",
              "        <td>79.2</td>\n",
              "    </tr>\n",
              "    <tr>\n",
              "        <td>Victor Stevens</td>\n",
              "        <td>76.23</td>\n",
              "    </tr>\n",
              "    <tr>\n",
              "        <td>Frank Harris</td>\n",
              "        <td>74.25</td>\n",
              "    </tr>\n",
              "    <tr>\n",
              "        <td>Julia Barnett</td>\n",
              "        <td>72.27</td>\n",
              "    </tr>\n",
              "    <tr>\n",
              "        <td>Frank Ralston</td>\n",
              "        <td>71.28</td>\n",
              "    </tr>\n",
              "    <tr>\n",
              "        <td>John Gordon</td>\n",
              "        <td>66.33</td>\n",
              "    </tr>\n",
              "    <tr>\n",
              "        <td>Tim Goyer</td>\n",
              "        <td>54.45</td>\n",
              "    </tr>\n",
              "</table>"
            ],
            "text/plain": [
              "[('Jack Smith', 98.01),\n",
              " ('Dan Miller', 95.04),\n",
              " ('Heather Leacock', 92.07),\n",
              " ('Kathy Chase', 91.08),\n",
              " ('Richard Cunningham', 86.13),\n",
              " ('Patrick Gray', 84.15),\n",
              " ('Michelle Brooks', 79.2),\n",
              " ('Victor Stevens', 76.23),\n",
              " ('Frank Harris', 74.25),\n",
              " ('Julia Barnett', 72.27),\n",
              " ('Frank Ralston', 71.28),\n",
              " ('John Gordon', 66.33),\n",
              " ('Tim Goyer', 54.45)]"
            ]
          },
          "metadata": {
            "tags": []
          },
          "execution_count": 16
        }
      ]
    },
    {
      "cell_type": "markdown",
      "metadata": {
        "id": "cIkJNMTdCnM5",
        "colab_type": "text"
      },
      "source": [
        "It is advisable for the Sales Support Agents to consider all-high value customers in both the USA and other countries, to better understand their preferences, maintain good customer relations and avoid losing them to the competition."
      ]
    },
    {
      "cell_type": "markdown",
      "metadata": {
        "id": "0SZSp0hMVMKv",
        "colab_type": "text"
      },
      "source": [
        "![The Doors album art](https://images-na.ssl-images-amazon.com/images/I/91hrbype4aL._SL1500_.jpg)"
      ]
    },
    {
      "cell_type": "markdown",
      "metadata": {
        "id": "HdIxm8yWEptR",
        "colab_type": "text"
      },
      "source": [
        "## 6. Music inventory"
      ]
    },
    {
      "cell_type": "markdown",
      "metadata": {
        "id": "fXCULDDsFCYd",
        "colab_type": "text"
      },
      "source": [
        "In this final section, we analyse the inventory (or library) of tracks that Chinook offers. We will answer the following questions:\n",
        "* Do customers mostly buy individual tracks or full albums?\n",
        "* Does the entire inventory get sold? What share remains unsold?\n",
        "* Does protected make up a large share of total sales?\n",
        "\n",
        "The first question will be answered below. It is of importance, because currently Chinook purchases entire albums from record companies, which is less cost efficient than buying only individual tracks. "
      ]
    },
    {
      "cell_type": "code",
      "metadata": {
        "id": "WO9DvTaqFCqw",
        "colab_type": "code",
        "colab": {
          "base_uri": "https://localhost:8080/",
          "height": 106
        },
        "outputId": "8fb50dc2-9ed7-4461-e897-0993d358088c"
      },
      "source": [
        "%%sql\n",
        "WITH invoice_info AS\n",
        "                  (\n",
        "                    SELECT il.invoice_id invoice_id,\n",
        "                              il.track_id track_id,\n",
        "                              t.album_id album_id\n",
        "                    FROM invoice_line il\n",
        "                    INNER JOIN track t ON t.track_id = il.track_id\n",
        "                  ),\n",
        "\n",
        "    Album_info AS\n",
        "                (\n",
        "                  SELECT ii.invoice_id ,\n",
        "                            ii.track_id,\n",
        "                            ii.album_id\n",
        "                  FROM invoice_info ii\n",
        "                  GROUP BY 1\n",
        "                ),\n",
        "\n",
        "    Album_or_track AS\n",
        "                    (\n",
        "                     SELECT ai.invoice_id ,\n",
        "                        CASE\n",
        "                           WHEN\n",
        "                                (\n",
        "                                  (SELECT t.track_id\n",
        "                                    FROM track t\n",
        "                                    WHERE t.album_id = ai.album_id\n",
        "                                    EXCEPT\n",
        "                                    SELECT ii.track_id \n",
        "                                    FROM invoice_info ii\n",
        "                                    WHERE ii.invoice_id = ai.invoice_id\n",
        "                                    )IS NULL\n",
        "                                    \n",
        "                                  AND\n",
        "                                  (SELECT ii.track_id \n",
        "                                    FROM invoice_info ii\n",
        "                                    WHERE ii.invoice_id = ai.invoice_id\n",
        "                                    EXCEPT\n",
        "                                    SELECT t.track_id\n",
        "                                    FROM track t\n",
        "                                    WHERE t.album_id = ai.album_id\n",
        "                                    )IS NULL\n",
        "                                   )THEN \"YES\"\n",
        "                                    ELSE \"NO\"\n",
        "                                END AS ALBUM_Purchased\n",
        "                        FROM Album_info ai\n",
        "                    )\n",
        "\n",
        "SELECT  COUNT(at.invoice_id) No_of_invoices,\n",
        "       ROUND(CAST(COUNT(at.invoice_id)AS FLOAT)*100/(SELECT COUNT(*) FROM invoice),2) Percentage,\n",
        "        at.ALBUM_purchased album_purchased\n",
        "        \n",
        "FROM Album_or_track at\n",
        "GROUP BY 3;"
      ],
      "execution_count": null,
      "outputs": [
        {
          "output_type": "stream",
          "text": [
            " * sqlite:///chinook.db\n",
            "Done.\n"
          ],
          "name": "stdout"
        },
        {
          "output_type": "execute_result",
          "data": {
            "text/html": [
              "<table>\n",
              "    <tr>\n",
              "        <th>No_of_invoices</th>\n",
              "        <th>Percentage</th>\n",
              "        <th>album_purchased</th>\n",
              "    </tr>\n",
              "    <tr>\n",
              "        <td>500</td>\n",
              "        <td>81.43</td>\n",
              "        <td>NO</td>\n",
              "    </tr>\n",
              "    <tr>\n",
              "        <td>114</td>\n",
              "        <td>18.57</td>\n",
              "        <td>YES</td>\n",
              "    </tr>\n",
              "</table>"
            ],
            "text/plain": [
              "[(500, 81.43, 'NO'), (114, 18.57, 'YES')]"
            ]
          },
          "metadata": {
            "tags": []
          },
          "execution_count": 17
        }
      ]
    },
    {
      "cell_type": "markdown",
      "metadata": {
        "id": "eYPW3LnOFvyT",
        "colab_type": "text"
      },
      "source": [
        " The percentage of **full albums purchased is only 18.57%**, which makes it inefficient for Chinook to continue buying these from record labels. It is worth considering the purchase of only the most popular tracks.\n",
        "\n",
        "Below, the second question will be answered to determine what share of the total inventory remains unsold. "
      ]
    },
    {
      "cell_type": "code",
      "metadata": {
        "id": "y9bFEi82HxkB",
        "colab_type": "code",
        "colab": {
          "base_uri": "https://localhost:8080/",
          "height": 106
        },
        "outputId": "4665bd5c-c789-4d75-fe18-139ff4d968f2"
      },
      "source": [
        "%%sql\n",
        "\n",
        "WITH track_table AS\n",
        "              (\n",
        "                  SELECT t.track_id\n",
        "                  FROM track t\n",
        "              ),\n",
        "    purchase_info AS\n",
        "                  ( \n",
        "                      SELECT tt.track_id,\n",
        "                      CASE \n",
        "                         WHEN \n",
        "                          (\n",
        "                              tt.track_id \n",
        "                              IN\n",
        "                              (SELECT il.track_id\n",
        "                              FROM invoice_line il)\n",
        "                               \n",
        "                           )THEN \"Sold\"\n",
        "                           ELSE \"Unsold\" \n",
        "                        END AS purchase_or_not \n",
        "                      FROM track_table tt\n",
        "                       )\n",
        "        \n",
        "SELECT pi.purchase_or_not,\n",
        "       COUNT(pi.track_id) No_of_tracks,\n",
        "       ROUND(CAST(COUNT(pi.track_id)AS FLOAT)*100/(SELECT COUNT(*)FROM track t),2) Percentage_of_Purchase\n",
        " FROM purchase_info pi\n",
        "GROUP BY 1;"
      ],
      "execution_count": null,
      "outputs": [
        {
          "output_type": "stream",
          "text": [
            " * sqlite:///chinook.db\n",
            "Done.\n"
          ],
          "name": "stdout"
        },
        {
          "output_type": "execute_result",
          "data": {
            "text/html": [
              "<table>\n",
              "    <tr>\n",
              "        <th>purchase_or_not</th>\n",
              "        <th>No_of_tracks</th>\n",
              "        <th>Percentage_of_Purchase</th>\n",
              "    </tr>\n",
              "    <tr>\n",
              "        <td>Sold</td>\n",
              "        <td>1806</td>\n",
              "        <td>51.56</td>\n",
              "    </tr>\n",
              "    <tr>\n",
              "        <td>Unsold</td>\n",
              "        <td>1697</td>\n",
              "        <td>48.44</td>\n",
              "    </tr>\n",
              "</table>"
            ],
            "text/plain": [
              "[('Sold', 1806, 51.56), ('Unsold', 1697, 48.44)]"
            ]
          },
          "metadata": {
            "tags": []
          },
          "execution_count": 18
        }
      ]
    },
    {
      "cell_type": "markdown",
      "metadata": {
        "id": "xlkCSmqtIvGa",
        "colab_type": "text"
      },
      "source": [
        "**Almost half** of the entire inventory remains **unsold**, while the other has been sold at least once. A wide choice and availability of tracks is what customers might value, but it comes at a high cost for Chinook. As demonstrated in the previous query, it would be more efficient to purchase single tracks from record labels and focus on the most popular tracks and artists.\n",
        "\n",
        "The final question will be answered below, where it is investigated what the impact is of protected media types. There are five different types of media offered on Chinook, of which two are protected file types. "
      ]
    },
    {
      "cell_type": "code",
      "metadata": {
        "id": "yEswrUSjIO_0",
        "colab_type": "code",
        "colab": {
          "base_uri": "https://localhost:8080/",
          "height": 160
        },
        "outputId": "7c455703-91ab-46ad-de26-4b7d316fed96"
      },
      "source": [
        "%%sql\n",
        "SELECT *\n",
        "FROM media_type"
      ],
      "execution_count": null,
      "outputs": [
        {
          "output_type": "stream",
          "text": [
            " * sqlite:///chinook.db\n",
            "Done.\n"
          ],
          "name": "stdout"
        },
        {
          "output_type": "execute_result",
          "data": {
            "text/html": [
              "<table>\n",
              "    <tr>\n",
              "        <th>media_type_id</th>\n",
              "        <th>name</th>\n",
              "    </tr>\n",
              "    <tr>\n",
              "        <td>1</td>\n",
              "        <td>MPEG audio file</td>\n",
              "    </tr>\n",
              "    <tr>\n",
              "        <td>2</td>\n",
              "        <td>Protected AAC audio file</td>\n",
              "    </tr>\n",
              "    <tr>\n",
              "        <td>3</td>\n",
              "        <td>Protected MPEG-4 video file</td>\n",
              "    </tr>\n",
              "    <tr>\n",
              "        <td>4</td>\n",
              "        <td>Purchased AAC audio file</td>\n",
              "    </tr>\n",
              "    <tr>\n",
              "        <td>5</td>\n",
              "        <td>AAC audio file</td>\n",
              "    </tr>\n",
              "</table>"
            ],
            "text/plain": [
              "[(1, 'MPEG audio file'),\n",
              " (2, 'Protected AAC audio file'),\n",
              " (3, 'Protected MPEG-4 video file'),\n",
              " (4, 'Purchased AAC audio file'),\n",
              " (5, 'AAC audio file')]"
            ]
          },
          "metadata": {
            "tags": []
          },
          "execution_count": 19
        }
      ]
    },
    {
      "cell_type": "markdown",
      "metadata": {
        "id": "x5GLB_lbKj15",
        "colab_type": "text"
      },
      "source": [
        "The other three file types will be classified as Non_protected."
      ]
    },
    {
      "cell_type": "code",
      "metadata": {
        "id": "1yZg1YjCKc8K",
        "colab_type": "code",
        "colab": {
          "base_uri": "https://localhost:8080/",
          "height": 106
        },
        "outputId": "199a939a-bb54-4b45-b905-8a771040901c"
      },
      "source": [
        "%%sql\n",
        "WITH in_store_track AS\n",
        "                   (\n",
        "                    SELECT COUNT(t.track_id) tracks_in_store,\n",
        "                               t.media_type_id,\n",
        "                                mt.name\n",
        "                    FROM track t\n",
        "                    INNER JOIN media_type mt ON mt.media_type_id = t.media_type_id\n",
        "                    GROUP BY 3\n",
        "                   ),\n",
        "    track_sold AS\n",
        "                (\n",
        "                 SELECT COUNT(il.track_id) tracks_sold,\n",
        "                         t.media_type_id,\n",
        "                         mt.name\n",
        "                 FROM invoice_line il\n",
        "                 INNER JOIN track t ON t.track_id = il.track_id\n",
        "                 INNER JOIN media_type mt ON mt.media_type_id = t.media_type_id\n",
        "                 GROUP BY 3\n",
        "                ),\n",
        "        \n",
        "    store_vs_sold AS\n",
        "                (\n",
        "                 SELECT it.name media_type,\n",
        "                           it.tracks_in_store,\n",
        "                           ts.tracks_sold\n",
        "                 FROM in_store_track it\n",
        "                 INNER JOIN track_sold ts On ts.media_type_id = it.media_type_id\n",
        "                ),\n",
        "        protected_vs_nonprotected AS\n",
        "                              (\n",
        "                                SELECT SUM(ss.tracks_in_store) tracks_in_store,\n",
        "                                       SUM(ss.tracks_sold) tracks_sold,\n",
        "                                       CASE \n",
        "                                          WHEN\n",
        "                                            (  \n",
        "                                              ss.media_type like \"%Protected%\"\n",
        "                                             )THEN \"Protected\"\n",
        "                                             ELSE  \"Non_protected\"\n",
        "                                      END AS Media_type\n",
        "                                FROM store_vs_sold ss\n",
        "                                GROUP BY 3\n",
        "                              )\n",
        "\n",
        "SELECT pn.Media_type,\n",
        "       pn.tracks_in_store,\n",
        "       ROUND(CAST(pn.tracks_in_store AS FLOAT)*100/(SELECT COUNT(t.track_id) FROM track t),2) PERCENTAGE_TRACKS_in_STORE,\n",
        "       pn.tracks_sold,\n",
        "       ROUND(CAST(pn.tracks_sold AS FLOAT)*100/(SELECT COUNT(il.track_id) FROM invoice_line il),2) PERCENTAGE_TRACKS_SOLD\n",
        "FROM protected_vs_nonprotected pn"
      ],
      "execution_count": null,
      "outputs": [
        {
          "output_type": "stream",
          "text": [
            " * sqlite:///chinook.db\n",
            "Done.\n"
          ],
          "name": "stdout"
        },
        {
          "output_type": "execute_result",
          "data": {
            "text/html": [
              "<table>\n",
              "    <tr>\n",
              "        <th>Media_type</th>\n",
              "        <th>tracks_in_store</th>\n",
              "        <th>PERCENTAGE_TRACKS_in_STORE</th>\n",
              "        <th>tracks_sold</th>\n",
              "        <th>PERCENTAGE_TRACKS_SOLD</th>\n",
              "    </tr>\n",
              "    <tr>\n",
              "        <td>Non_protected</td>\n",
              "        <td>3052</td>\n",
              "        <td>87.13</td>\n",
              "        <td>4315</td>\n",
              "        <td>90.71</td>\n",
              "    </tr>\n",
              "    <tr>\n",
              "        <td>Protected</td>\n",
              "        <td>451</td>\n",
              "        <td>12.87</td>\n",
              "        <td>442</td>\n",
              "        <td>9.29</td>\n",
              "    </tr>\n",
              "</table>"
            ],
            "text/plain": [
              "[('Non_protected', 3052, 87.13, 4315, 90.71),\n",
              " ('Protected', 451, 12.87, 442, 9.29)]"
            ]
          },
          "metadata": {
            "tags": []
          },
          "execution_count": 20
        }
      ]
    },
    {
      "cell_type": "markdown",
      "metadata": {
        "id": "kZIT7I2JLW2w",
        "colab_type": "text"
      },
      "source": [
        "The percentage of protected tracks sold is only 9.29%, while it makes up for 12.87% of tracks in the inventory. This means that protected media types are lower in demand than non-protected media. It is worth considering to only offer non-protected media types."
      ]
    },
    {
      "cell_type": "markdown",
      "metadata": {
        "id": "ZQOo8f5xUzG0",
        "colab_type": "text"
      },
      "source": [
        "\n",
        "\n",
        "---\n",
        "\n"
      ]
    },
    {
      "cell_type": "markdown",
      "metadata": {
        "id": "WvfjMTFTMtRM",
        "colab_type": "text"
      },
      "source": [
        "## 7. Conclusions\n",
        "\n",
        "From the analysis of Chinook's database, we can conclude the following points:\n",
        "- Best selling product categories: **Rock music** is the speciality of Chinook, of which it sells the majority of its tracks. The top 5 best selling albums fall in this category, so it is worth considering to emphasize this in Chinook's marketing and profiling.\n",
        "- Sales performance per country: the **USA** is by far the largest market for Chinook. Chinook's marketing efforts should be aimed at strong holding its position in this market.\n",
        "- Sales Agents performance: There is a considerable difference in sales turnover between Sales Support Agents, with about 20% difference between the best and worst performer. It might be worth investigating how to improve **sales team motivation**, for instance by optimizing the commission scheme.\n",
        "- Customer base: **high-value customers** could be personally targeted with **direct marketing**, based on their previous purchases. Sales Support Agents should be motivated to better understand their **preferences**, maintain good customer **relations** and avoid losing them to the **competition**.\n",
        "- Music inventory: The percentage of full albums purchased is only 18.57%. From a cost reduction perspective, it can be interesting to **purchase only the most popular tracks** in **non-protected media form** from record companies. Another reason for this is that about half of the full music inventory remains unsold. A wide choice and **availability of tracks** may be what customers value, although it may come at a high expense for Chinook. Rapid technological developments, such as the growing dominance of music streaming services need to be monitored and included in Chinook's strategy plans. It would be advisable to make clear decisions with regards to its **purchasing policies**.\n"
      ]
    },
    {
      "cell_type": "markdown",
      "metadata": {
        "id": "CCcSCM5eUrFR",
        "colab_type": "text"
      },
      "source": [
        "---"
      ]
    }
  ]
}