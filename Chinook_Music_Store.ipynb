{
  "nbformat": 4,
  "nbformat_minor": 0,
  "metadata": {
    "colab": {
      "name": "Chinook Music Store",
      "provenance": [],
      "authorship_tag": "ABX9TyMBPQHv6l1VIm49V38qpR0c",
      "include_colab_link": true
    },
    "kernelspec": {
      "name": "python3",
      "display_name": "Python 3"
    }
  },
  "cells": [
    {
      "cell_type": "markdown",
      "metadata": {
        "id": "view-in-github",
        "colab_type": "text"
      },
      "source": [
        "<a href=\"https://colab.research.google.com/github/Rossel/Digital_Music_Store/blob/master/Chinook_Music_Store.ipynb\" target=\"_parent\"><img src=\"https://colab.research.google.com/assets/colab-badge.svg\" alt=\"Open In Colab\"/></a>"
      ]
    },
    {
      "cell_type": "markdown",
      "metadata": {
        "id": "Xf_cuWd5AMQQ",
        "colab_type": "text"
      },
      "source": [
        "# **Chinook Music Store**"
      ]
    },
    {
      "cell_type": "markdown",
      "metadata": {
        "id": "FCRLozAoB8Yv",
        "colab_type": "text"
      },
      "source": [
        "## 1. Introduction"
      ]
    },
    {
      "cell_type": "markdown",
      "metadata": {
        "id": "yb0YX9QlAU6X",
        "colab_type": "text"
      },
      "source": [
        "In this report we will be analzing a database for a *fictional* digital music shop, comparable to the iTunes Music store, called Chinook. The fictional management wants insights in its sales performance to further optimize its business strategy. \n",
        "The central question being asked by Chinook's management is:\n",
        "\n",
        "**How can Chinook improve its performance and optimize its sales strategy?**\n",
        "\n",
        "\n",
        "In order to answer this question, and various sub questions, this report will cover the following topics:\n",
        "\n",
        "* Best selling product categories\n",
        "* Sales performance per country\n",
        "* Sales agents performance\n",
        "* Customer base\n",
        "* Music inventory\n",
        "\n",
        "![Chinook logo](https://rlv.zcache.com/chinook_salmon_oval_logo_oval_sticker-rc0dcc9a4f9ef4155b430ba4da2d23edd_0ugdd_8byvr_630.jpg)"
      ]
    },
    {
      "cell_type": "markdown",
      "metadata": {
        "id": "eWZ3KidYKIcO",
        "colab_type": "text"
      },
      "source": [
        "###The database\n",
        "\n",
        "For this report a modified version of a SQLite database is being used from [this resource](https://github.com/lerocha/chinook-database). The actual version used in this report can be found [here](https://drive.google.com/file/d/1edlG-tOLPxLEWP19dBmBp_NxRmc7GAcx/view?usp=sharing). It contains information about the artists, songs, and albums from the music shop, as well as information on the shop's employees, customers, and the customers purchases. This information is contained in eleven tables. Below is a schema diagram for the Chinook database:\n",
        "\n",
        "![alt text](https://s3.amazonaws.com/dq-content/189/chinook-schema.svg)\n"
      ]
    },
    {
      "cell_type": "markdown",
      "metadata": {
        "id": "3p58F9YlDXk2",
        "colab_type": "text"
      },
      "source": [
        "### Importing the database\n",
        "\n",
        "In the steps below `chinook.db` will be loaded in this Google Collaboratory notebook. \n"
      ]
    },
    {
      "cell_type": "code",
      "metadata": {
        "id": "_LBr2rk1T0xR",
        "colab_type": "code",
        "colab": {}
      },
      "source": [
        "# Import functions from Google modules into Colaboratory\n",
        "!pip install -U -q PyDrive\n",
        "from pydrive.auth import GoogleAuth\n",
        "from pydrive.drive import GoogleDrive\n",
        "from google.colab import auth\n",
        "from oauth2client.client import GoogleCredentials\n",
        "\n",
        "# Authenticate and create the PyDrive client\n",
        "auth.authenticate_user()\n",
        "gauth = GoogleAuth()\n",
        "gauth.credentials = GoogleCredentials.get_application_default()\n",
        "drive = GoogleDrive(gauth)"
      ],
      "execution_count": 1,
      "outputs": []
    },
    {
      "cell_type": "code",
      "metadata": {
        "id": "pzy0-ZtPScNy",
        "colab_type": "code",
        "colab": {}
      },
      "source": [
        "# Insert file id from Google Drive shareable link:\n",
        "# https://drive.google.com/file/d/1edlG-tOLPxLEWP19dBmBp_NxRmc7GAcx/view?usp=sharing\n",
        "id = '1edlG-tOLPxLEWP19dBmBp_NxRmc7GAcx'"
      ],
      "execution_count": 2,
      "outputs": []
    },
    {
      "cell_type": "code",
      "metadata": {
        "id": "mspPJ_6QT1mi",
        "colab_type": "code",
        "colab": {}
      },
      "source": [
        "# Download the dataset\n",
        "downloaded = drive.CreateFile({'id':id}) \n",
        "downloaded.GetContentFile('chinook.db')"
      ],
      "execution_count": 3,
      "outputs": []
    },
    {
      "cell_type": "code",
      "metadata": {
        "id": "vBAHoQ3QO4cb",
        "colab_type": "code",
        "colab": {}
      },
      "source": [
        "# Import SQLite3 and pandas library\n",
        "import sqlite3\n",
        "import pandas as pd"
      ],
      "execution_count": 4,
      "outputs": []
    },
    {
      "cell_type": "code",
      "metadata": {
        "id": "hJXj6T_naCHQ",
        "colab_type": "code",
        "colab": {}
      },
      "source": [
        "# Connect the notebook to the database file\n",
        "%%capture\n",
        "%load_ext sql\n",
        "%sql sqlite:///chinook.db"
      ],
      "execution_count": 5,
      "outputs": []
    },
    {
      "cell_type": "markdown",
      "metadata": {
        "id": "gw2mPNtgHRx8",
        "colab_type": "text"
      },
      "source": [
        "To verify the database is fully functional, a query is run to return information on the tables and views in the database.\n",
        "\n",
        "In order to run SQL queries in a Collab notebook, the IPython Magic Command `%%sql` needs to be run on the first line of every cell, followed by the SQL query itself. "
      ]
    },
    {
      "cell_type": "code",
      "metadata": {
        "id": "qGz6pKcsKJWh",
        "colab_type": "code",
        "colab": {
          "base_uri": "https://localhost:8080/",
          "height": 266
        },
        "outputId": "6c51e7d2-632a-46b3-fb1a-5ac3df780dc6"
      },
      "source": [
        "%%sql\n",
        "\n",
        "SELECT name, type\n",
        "  FROM sqlite_master\n",
        " WHERE type IN (\"table\", \"view\");"
      ],
      "execution_count": 6,
      "outputs": [
        {
          "output_type": "stream",
          "text": [
            " * sqlite:///chinook.db\n",
            "Done.\n"
          ],
          "name": "stdout"
        },
        {
          "output_type": "execute_result",
          "data": {
            "text/html": [
              "<table>\n",
              "    <tr>\n",
              "        <th>name</th>\n",
              "        <th>type</th>\n",
              "    </tr>\n",
              "    <tr>\n",
              "        <td>album</td>\n",
              "        <td>table</td>\n",
              "    </tr>\n",
              "    <tr>\n",
              "        <td>artist</td>\n",
              "        <td>table</td>\n",
              "    </tr>\n",
              "    <tr>\n",
              "        <td>customer</td>\n",
              "        <td>table</td>\n",
              "    </tr>\n",
              "    <tr>\n",
              "        <td>employee</td>\n",
              "        <td>table</td>\n",
              "    </tr>\n",
              "    <tr>\n",
              "        <td>genre</td>\n",
              "        <td>table</td>\n",
              "    </tr>\n",
              "    <tr>\n",
              "        <td>invoice</td>\n",
              "        <td>table</td>\n",
              "    </tr>\n",
              "    <tr>\n",
              "        <td>invoice_line</td>\n",
              "        <td>table</td>\n",
              "    </tr>\n",
              "    <tr>\n",
              "        <td>media_type</td>\n",
              "        <td>table</td>\n",
              "    </tr>\n",
              "    <tr>\n",
              "        <td>playlist</td>\n",
              "        <td>table</td>\n",
              "    </tr>\n",
              "    <tr>\n",
              "        <td>playlist_track</td>\n",
              "        <td>table</td>\n",
              "    </tr>\n",
              "    <tr>\n",
              "        <td>track</td>\n",
              "        <td>table</td>\n",
              "    </tr>\n",
              "</table>"
            ],
            "text/plain": [
              "[('album', 'table'),\n",
              " ('artist', 'table'),\n",
              " ('customer', 'table'),\n",
              " ('employee', 'table'),\n",
              " ('genre', 'table'),\n",
              " ('invoice', 'table'),\n",
              " ('invoice_line', 'table'),\n",
              " ('media_type', 'table'),\n",
              " ('playlist', 'table'),\n",
              " ('playlist_track', 'table'),\n",
              " ('track', 'table')]"
            ]
          },
          "metadata": {
            "tags": []
          },
          "execution_count": 6
        }
      ]
    },
    {
      "cell_type": "markdown",
      "metadata": {
        "id": "7h-8GU_1EpKd",
        "colab_type": "text"
      },
      "source": [
        "## 2. Best selling product categories"
      ]
    },
    {
      "cell_type": "markdown",
      "metadata": {
        "id": "GU56DscsE-V8",
        "colab_type": "text"
      },
      "source": [
        "In this section, the following questions will be answered:\n",
        "* Who are the best selling artists?\n",
        "* What are the best selling tracks?\n",
        "* What are the best selling albums? \n",
        "* What are the best selling genres?\n",
        "* Which artists are most sold through playlists?"
      ]
    },
    {
      "cell_type": "markdown",
      "metadata": {
        "id": "ReN8q9mLNHgr",
        "colab_type": "text"
      },
      "source": [
        "### Best selling artists"
      ]
    },
    {
      "cell_type": "code",
      "metadata": {
        "id": "gYx93ZZMQy-K",
        "colab_type": "code",
        "colab": {
          "base_uri": "https://localhost:8080/",
          "height": 248
        },
        "outputId": "0cf885b1-6acb-47c6-c4ae-8f06f3ee136e"
      },
      "source": [
        "%%sql\n",
        "\n",
        "SELECT\n",
        "    ta.artist_name artist,\n",
        "    COUNT(*) tracks_purchased\n",
        "FROM invoice_line il\n",
        "INNER JOIN (\n",
        "            SELECT\n",
        "                t.track_id,\n",
        "                ar.name artist_name\n",
        "            FROM track t\n",
        "            INNER JOIN album al ON al.album_id = t.album_id\n",
        "            INNER JOIN artist ar ON ar.artist_id = al.artist_id\n",
        "           ) ta\n",
        "           ON ta.track_id = il.track_id\n",
        "GROUP BY 1\n",
        "ORDER BY 2 DESC \n",
        "LIMIT 10;"
      ],
      "execution_count": 7,
      "outputs": [
        {
          "output_type": "stream",
          "text": [
            " * sqlite:///chinook.db\n",
            "Done.\n"
          ],
          "name": "stdout"
        },
        {
          "output_type": "execute_result",
          "data": {
            "text/html": [
              "<table>\n",
              "    <tr>\n",
              "        <th>artist</th>\n",
              "        <th>tracks_purchased</th>\n",
              "    </tr>\n",
              "    <tr>\n",
              "        <td>Queen</td>\n",
              "        <td>192</td>\n",
              "    </tr>\n",
              "    <tr>\n",
              "        <td>Jimi Hendrix</td>\n",
              "        <td>187</td>\n",
              "    </tr>\n",
              "    <tr>\n",
              "        <td>Nirvana</td>\n",
              "        <td>130</td>\n",
              "    </tr>\n",
              "    <tr>\n",
              "        <td>Red Hot Chili Peppers</td>\n",
              "        <td>130</td>\n",
              "    </tr>\n",
              "    <tr>\n",
              "        <td>Pearl Jam</td>\n",
              "        <td>129</td>\n",
              "    </tr>\n",
              "    <tr>\n",
              "        <td>AC/DC</td>\n",
              "        <td>124</td>\n",
              "    </tr>\n",
              "    <tr>\n",
              "        <td>Guns N&#x27; Roses</td>\n",
              "        <td>124</td>\n",
              "    </tr>\n",
              "    <tr>\n",
              "        <td>Foo Fighters</td>\n",
              "        <td>121</td>\n",
              "    </tr>\n",
              "    <tr>\n",
              "        <td>The Rolling Stones</td>\n",
              "        <td>117</td>\n",
              "    </tr>\n",
              "    <tr>\n",
              "        <td>Metallica</td>\n",
              "        <td>106</td>\n",
              "    </tr>\n",
              "</table>"
            ],
            "text/plain": [
              "[('Queen', 192),\n",
              " ('Jimi Hendrix', 187),\n",
              " ('Nirvana', 130),\n",
              " ('Red Hot Chili Peppers', 130),\n",
              " ('Pearl Jam', 129),\n",
              " ('AC/DC', 124),\n",
              " (\"Guns N' Roses\", 124),\n",
              " ('Foo Fighters', 121),\n",
              " ('The Rolling Stones', 117),\n",
              " ('Metallica', 106)]"
            ]
          },
          "metadata": {
            "tags": []
          },
          "execution_count": 7
        }
      ]
    },
    {
      "cell_type": "markdown",
      "metadata": {
        "id": "_RUjTPpBNO53",
        "colab_type": "text"
      },
      "source": [
        "**Queen** and **Jimi Hendrix** are most popular artists in the Chinook music store."
      ]
    },
    {
      "cell_type": "markdown",
      "metadata": {
        "id": "uxA7ttObOjMB",
        "colab_type": "text"
      },
      "source": [
        "Using the query above in reversed order, the least popular artists can be found that could be eliminated from the database to cut costs for Chinook. Chinooks management would have to decide before proceeding with this, so currently it remains outside the scope of this project. A date clause would have to be included to avoid elimination of artists that have recently been added to the inventory."
      ]
    },
    {
      "cell_type": "markdown",
      "metadata": {
        "colab_type": "text",
        "id": "wsdZ6IhXQRzU"
      },
      "source": [
        "### Best selling tracks"
      ]
    },
    {
      "cell_type": "code",
      "metadata": {
        "colab_type": "code",
        "id": "Cnq58rtAUvuQ",
        "colab": {
          "base_uri": "https://localhost:8080/",
          "height": 354
        },
        "outputId": "0713cdff-6219-4c64-d88b-761b807b8b3b"
      },
      "source": [
        "%%sql\n",
        "\n",
        "SELECT\n",
        "    t.name track,\n",
        "    COUNT(*) tracks_purchased\n",
        "FROM invoice_line il\n",
        "INNER JOIN (\n",
        "            SELECT\n",
        "                t.track_id,\n",
        "                ar.name artist_name\n",
        "            FROM track t\n",
        "            INNER JOIN album al ON al.album_id = t.album_id\n",
        "            INNER JOIN artist ar ON ar.artist_id = al.artist_id\n",
        "           ) ta\n",
        "           ON ta.track_id = il.track_id\n",
        "GROUP BY 1\n",
        "ORDER BY 2 DESC \n",
        "LIMIT 10;"
      ],
      "execution_count": 10,
      "outputs": [
        {
          "output_type": "stream",
          "text": [
            " * sqlite:///chinook.db\n",
            "(sqlite3.OperationalError) no such column: t.name\n",
            "[SQL: SELECT\n",
            "    t.name track,\n",
            "    COUNT(*) tracks_purchased\n",
            "FROM invoice_line il\n",
            "INNER JOIN (\n",
            "            SELECT\n",
            "                t.track_id,\n",
            "                ar.name artist_name\n",
            "            FROM track t\n",
            "            INNER JOIN album al ON al.album_id = t.album_id\n",
            "            INNER JOIN artist ar ON ar.artist_id = al.artist_id\n",
            "           ) ta\n",
            "           ON ta.track_id = il.track_id\n",
            "GROUP BY 1\n",
            "ORDER BY 2 DESC \n",
            "LIMIT 10;]\n",
            "(Background on this error at: http://sqlalche.me/e/13/e3q8)\n"
          ],
          "name": "stdout"
        }
      ]
    },
    {
      "cell_type": "markdown",
      "metadata": {
        "id": "HdALNZ46TyF6",
        "colab_type": "text"
      },
      "source": [
        ""
      ]
    },
    {
      "cell_type": "markdown",
      "metadata": {
        "colab_type": "text",
        "id": "XdRj1RsJQR9T"
      },
      "source": [
        "### Best selling albums"
      ]
    },
    {
      "cell_type": "code",
      "metadata": {
        "id": "fpE1eWeDRDnD",
        "colab_type": "code",
        "colab": {
          "base_uri": "https://localhost:8080/",
          "height": 160
        },
        "outputId": "516d12c6-9fb4-41a2-80dc-1eb7def97d62"
      },
      "source": [
        "%%sql\n",
        "\n",
        "SELECT\n",
        "    ta.album_title album,\n",
        "    ta.artist_name artist,\n",
        "    COUNT(*) tracks_purchased\n",
        "  FROM invoice_line il\n",
        " INNER JOIN (\n",
        "            SELECT\n",
        "                t.track_id,\n",
        "                al.title album_title,\n",
        "                ar.name artist_name\n",
        "            FROM track t\n",
        "            INNER JOIN album al ON al.album_id = t.album_id\n",
        "            INNER JOIN artist ar ON ar.artist_id = al.artist_id\n",
        "           ) ta\n",
        "           ON ta.track_id = il.track_id\n",
        " GROUP BY 1, 2\n",
        " ORDER BY 3 DESC \n",
        " LIMIT 5;"
      ],
      "execution_count": 9,
      "outputs": [
        {
          "output_type": "stream",
          "text": [
            " * sqlite:///chinook.db\n",
            "Done.\n"
          ],
          "name": "stdout"
        },
        {
          "output_type": "execute_result",
          "data": {
            "text/html": [
              "<table>\n",
              "    <tr>\n",
              "        <th>album</th>\n",
              "        <th>artist</th>\n",
              "        <th>tracks_purchased</th>\n",
              "    </tr>\n",
              "    <tr>\n",
              "        <td>Are You Experienced?</td>\n",
              "        <td>Jimi Hendrix</td>\n",
              "        <td>187</td>\n",
              "    </tr>\n",
              "    <tr>\n",
              "        <td>Faceless</td>\n",
              "        <td>Godsmack</td>\n",
              "        <td>96</td>\n",
              "    </tr>\n",
              "    <tr>\n",
              "        <td>Mezmerize</td>\n",
              "        <td>System Of A Down</td>\n",
              "        <td>93</td>\n",
              "    </tr>\n",
              "    <tr>\n",
              "        <td>Get Born</td>\n",
              "        <td>JET</td>\n",
              "        <td>90</td>\n",
              "    </tr>\n",
              "    <tr>\n",
              "        <td>The Doors</td>\n",
              "        <td>The Doors</td>\n",
              "        <td>83</td>\n",
              "    </tr>\n",
              "</table>"
            ],
            "text/plain": [
              "[('Are You Experienced?', 'Jimi Hendrix', 187),\n",
              " ('Faceless', 'Godsmack', 96),\n",
              " ('Mezmerize', 'System Of A Down', 93),\n",
              " ('Get Born', 'JET', 90),\n",
              " ('The Doors', 'The Doors', 83)]"
            ]
          },
          "metadata": {
            "tags": []
          },
          "execution_count": 9
        }
      ]
    },
    {
      "cell_type": "markdown",
      "metadata": {
        "id": "v476lr--UW7q",
        "colab_type": "text"
      },
      "source": [
        "The album \"**Are You Experienced?**\" by **Jimi Hendrix** is sold most according to the database. Below is an overview of the tracks on this album."
      ]
    },
    {
      "cell_type": "code",
      "metadata": {
        "id": "5_oW452caeVA",
        "colab_type": "code",
        "colab": {
          "base_uri": "https://localhost:8080/",
          "height": 373
        },
        "outputId": "35aa04c0-e79f-4029-e5f6-e4f274d36100"
      },
      "source": [
        "%%sql\n",
        "\n",
        "SELECT * FROM\n",
        "    (\n",
        "     SELECT\n",
        "         t.name,\n",
        "         ar.name artist,\n",
        "         al.title album_name,\n",
        "         mt.name media_type,\n",
        "         g.name genre,\n",
        "         t.milliseconds length_milliseconds\n",
        "     FROM track t\n",
        "     INNER JOIN media_type mt ON mt.media_type_id = t.media_type_id\n",
        "     INNER JOIN genre g ON g.genre_id = t.genre_id\n",
        "     INNER JOIN album al ON al.album_id = t.album_id\n",
        "     INNER JOIN artist ar ON ar.artist_id = al.artist_id\n",
        "    )\n",
        "WHERE album_name = \"Are You Experienced?\";"
      ],
      "execution_count": 12,
      "outputs": [
        {
          "output_type": "stream",
          "text": [
            " * sqlite:///chinook.db\n",
            "Done.\n"
          ],
          "name": "stdout"
        },
        {
          "output_type": "execute_result",
          "data": {
            "text/html": [
              "<table>\n",
              "    <tr>\n",
              "        <th>name</th>\n",
              "        <th>artist</th>\n",
              "        <th>album_name</th>\n",
              "        <th>media_type</th>\n",
              "        <th>genre</th>\n",
              "        <th>length_milliseconds</th>\n",
              "    </tr>\n",
              "    <tr>\n",
              "        <td>Foxy Lady</td>\n",
              "        <td>Jimi Hendrix</td>\n",
              "        <td>Are You Experienced?</td>\n",
              "        <td>MPEG audio file</td>\n",
              "        <td>Rock</td>\n",
              "        <td>199340</td>\n",
              "    </tr>\n",
              "    <tr>\n",
              "        <td>Manic Depression</td>\n",
              "        <td>Jimi Hendrix</td>\n",
              "        <td>Are You Experienced?</td>\n",
              "        <td>MPEG audio file</td>\n",
              "        <td>Rock</td>\n",
              "        <td>222302</td>\n",
              "    </tr>\n",
              "    <tr>\n",
              "        <td>Red House</td>\n",
              "        <td>Jimi Hendrix</td>\n",
              "        <td>Are You Experienced?</td>\n",
              "        <td>MPEG audio file</td>\n",
              "        <td>Rock</td>\n",
              "        <td>224130</td>\n",
              "    </tr>\n",
              "    <tr>\n",
              "        <td>Can You See Me</td>\n",
              "        <td>Jimi Hendrix</td>\n",
              "        <td>Are You Experienced?</td>\n",
              "        <td>MPEG audio file</td>\n",
              "        <td>Rock</td>\n",
              "        <td>153077</td>\n",
              "    </tr>\n",
              "    <tr>\n",
              "        <td>Love Or Confusion</td>\n",
              "        <td>Jimi Hendrix</td>\n",
              "        <td>Are You Experienced?</td>\n",
              "        <td>MPEG audio file</td>\n",
              "        <td>Rock</td>\n",
              "        <td>193123</td>\n",
              "    </tr>\n",
              "    <tr>\n",
              "        <td>I Don&#x27;t Live Today</td>\n",
              "        <td>Jimi Hendrix</td>\n",
              "        <td>Are You Experienced?</td>\n",
              "        <td>MPEG audio file</td>\n",
              "        <td>Rock</td>\n",
              "        <td>235311</td>\n",
              "    </tr>\n",
              "    <tr>\n",
              "        <td>May This Be Love</td>\n",
              "        <td>Jimi Hendrix</td>\n",
              "        <td>Are You Experienced?</td>\n",
              "        <td>MPEG audio file</td>\n",
              "        <td>Rock</td>\n",
              "        <td>191216</td>\n",
              "    </tr>\n",
              "    <tr>\n",
              "        <td>Fire</td>\n",
              "        <td>Jimi Hendrix</td>\n",
              "        <td>Are You Experienced?</td>\n",
              "        <td>MPEG audio file</td>\n",
              "        <td>Rock</td>\n",
              "        <td>164989</td>\n",
              "    </tr>\n",
              "    <tr>\n",
              "        <td>Third Stone From The Sun</td>\n",
              "        <td>Jimi Hendrix</td>\n",
              "        <td>Are You Experienced?</td>\n",
              "        <td>MPEG audio file</td>\n",
              "        <td>Rock</td>\n",
              "        <td>404453</td>\n",
              "    </tr>\n",
              "    <tr>\n",
              "        <td>Remember</td>\n",
              "        <td>Jimi Hendrix</td>\n",
              "        <td>Are You Experienced?</td>\n",
              "        <td>MPEG audio file</td>\n",
              "        <td>Rock</td>\n",
              "        <td>168150</td>\n",
              "    </tr>\n",
              "    <tr>\n",
              "        <td>Are You Experienced?</td>\n",
              "        <td>Jimi Hendrix</td>\n",
              "        <td>Are You Experienced?</td>\n",
              "        <td>MPEG audio file</td>\n",
              "        <td>Rock</td>\n",
              "        <td>254537</td>\n",
              "    </tr>\n",
              "    <tr>\n",
              "        <td>Hey Joe</td>\n",
              "        <td>Jimi Hendrix</td>\n",
              "        <td>Are You Experienced?</td>\n",
              "        <td>MPEG audio file</td>\n",
              "        <td>Rock</td>\n",
              "        <td>210259</td>\n",
              "    </tr>\n",
              "    <tr>\n",
              "        <td>Stone Free</td>\n",
              "        <td>Jimi Hendrix</td>\n",
              "        <td>Are You Experienced?</td>\n",
              "        <td>MPEG audio file</td>\n",
              "        <td>Rock</td>\n",
              "        <td>216293</td>\n",
              "    </tr>\n",
              "    <tr>\n",
              "        <td>Purple Haze</td>\n",
              "        <td>Jimi Hendrix</td>\n",
              "        <td>Are You Experienced?</td>\n",
              "        <td>MPEG audio file</td>\n",
              "        <td>Rock</td>\n",
              "        <td>171572</td>\n",
              "    </tr>\n",
              "    <tr>\n",
              "        <td>51st Anniversary</td>\n",
              "        <td>Jimi Hendrix</td>\n",
              "        <td>Are You Experienced?</td>\n",
              "        <td>MPEG audio file</td>\n",
              "        <td>Rock</td>\n",
              "        <td>196388</td>\n",
              "    </tr>\n",
              "    <tr>\n",
              "        <td>The Wind Cries Mary</td>\n",
              "        <td>Jimi Hendrix</td>\n",
              "        <td>Are You Experienced?</td>\n",
              "        <td>MPEG audio file</td>\n",
              "        <td>Rock</td>\n",
              "        <td>200463</td>\n",
              "    </tr>\n",
              "    <tr>\n",
              "        <td>Highway Chile</td>\n",
              "        <td>Jimi Hendrix</td>\n",
              "        <td>Are You Experienced?</td>\n",
              "        <td>MPEG audio file</td>\n",
              "        <td>Rock</td>\n",
              "        <td>212453</td>\n",
              "    </tr>\n",
              "</table>"
            ],
            "text/plain": [
              "[('Foxy Lady', 'Jimi Hendrix', 'Are You Experienced?', 'MPEG audio file', 'Rock', 199340),\n",
              " ('Manic Depression', 'Jimi Hendrix', 'Are You Experienced?', 'MPEG audio file', 'Rock', 222302),\n",
              " ('Red House', 'Jimi Hendrix', 'Are You Experienced?', 'MPEG audio file', 'Rock', 224130),\n",
              " ('Can You See Me', 'Jimi Hendrix', 'Are You Experienced?', 'MPEG audio file', 'Rock', 153077),\n",
              " ('Love Or Confusion', 'Jimi Hendrix', 'Are You Experienced?', 'MPEG audio file', 'Rock', 193123),\n",
              " (\"I Don't Live Today\", 'Jimi Hendrix', 'Are You Experienced?', 'MPEG audio file', 'Rock', 235311),\n",
              " ('May This Be Love', 'Jimi Hendrix', 'Are You Experienced?', 'MPEG audio file', 'Rock', 191216),\n",
              " ('Fire', 'Jimi Hendrix', 'Are You Experienced?', 'MPEG audio file', 'Rock', 164989),\n",
              " ('Third Stone From The Sun', 'Jimi Hendrix', 'Are You Experienced?', 'MPEG audio file', 'Rock', 404453),\n",
              " ('Remember', 'Jimi Hendrix', 'Are You Experienced?', 'MPEG audio file', 'Rock', 168150),\n",
              " ('Are You Experienced?', 'Jimi Hendrix', 'Are You Experienced?', 'MPEG audio file', 'Rock', 254537),\n",
              " ('Hey Joe', 'Jimi Hendrix', 'Are You Experienced?', 'MPEG audio file', 'Rock', 210259),\n",
              " ('Stone Free', 'Jimi Hendrix', 'Are You Experienced?', 'MPEG audio file', 'Rock', 216293),\n",
              " ('Purple Haze', 'Jimi Hendrix', 'Are You Experienced?', 'MPEG audio file', 'Rock', 171572),\n",
              " ('51st Anniversary', 'Jimi Hendrix', 'Are You Experienced?', 'MPEG audio file', 'Rock', 196388),\n",
              " ('The Wind Cries Mary', 'Jimi Hendrix', 'Are You Experienced?', 'MPEG audio file', 'Rock', 200463),\n",
              " ('Highway Chile', 'Jimi Hendrix', 'Are You Experienced?', 'MPEG audio file', 'Rock', 212453)]"
            ]
          },
          "metadata": {
            "tags": []
          },
          "execution_count": 12
        }
      ]
    },
    {
      "cell_type": "markdown",
      "metadata": {
        "id": "bKtsj4nfOkCt",
        "colab_type": "text"
      },
      "source": [
        "![Jimi Hendrix](https://1.bp.blogspot.com/-_KAun5P_CU0/UI9S8RSQ7eI/AAAAAAAAAhc/K2XrzWc2_rY/s1600/Jimi+Hendrix.jpg)"
      ]
    },
    {
      "cell_type": "markdown",
      "metadata": {
        "colab_type": "text",
        "id": "rWL4kB-NQSB3"
      },
      "source": [
        "### Best selling genres"
      ]
    },
    {
      "cell_type": "code",
      "metadata": {
        "id": "suZ5Xae5UE_H",
        "colab_type": "code",
        "colab": {
          "base_uri": "https://localhost:8080/",
          "height": 391
        },
        "outputId": "012ec0f1-d50c-4d29-c107-b095eb96c73c"
      },
      "source": [
        "%%sql \n",
        "\n",
        "SELECT \n",
        "       g.name genre_name,\n",
        "       SUM(il.quantity) tracks_sold FROM track t\n",
        " INNER JOIN invoice_line il ON il.track_id = t.track_id INNER JOIN genre g ON g.genre_id = t.genre_id\n",
        " GROUP BY 1\n",
        " ORDER BY 2 DESC;"
      ],
      "execution_count": 11,
      "outputs": [
        {
          "output_type": "stream",
          "text": [
            " * sqlite:///chinook.db\n",
            "Done.\n"
          ],
          "name": "stdout"
        },
        {
          "output_type": "execute_result",
          "data": {
            "text/html": [
              "<table>\n",
              "    <tr>\n",
              "        <th>genre_name</th>\n",
              "        <th>tracks_sold</th>\n",
              "    </tr>\n",
              "    <tr>\n",
              "        <td>Rock</td>\n",
              "        <td>2635</td>\n",
              "    </tr>\n",
              "    <tr>\n",
              "        <td>Metal</td>\n",
              "        <td>619</td>\n",
              "    </tr>\n",
              "    <tr>\n",
              "        <td>Alternative &amp; Punk</td>\n",
              "        <td>492</td>\n",
              "    </tr>\n",
              "    <tr>\n",
              "        <td>Latin</td>\n",
              "        <td>167</td>\n",
              "    </tr>\n",
              "    <tr>\n",
              "        <td>R&amp;B/Soul</td>\n",
              "        <td>159</td>\n",
              "    </tr>\n",
              "    <tr>\n",
              "        <td>Blues</td>\n",
              "        <td>124</td>\n",
              "    </tr>\n",
              "    <tr>\n",
              "        <td>Jazz</td>\n",
              "        <td>121</td>\n",
              "    </tr>\n",
              "    <tr>\n",
              "        <td>Alternative</td>\n",
              "        <td>117</td>\n",
              "    </tr>\n",
              "    <tr>\n",
              "        <td>Easy Listening</td>\n",
              "        <td>74</td>\n",
              "    </tr>\n",
              "    <tr>\n",
              "        <td>Pop</td>\n",
              "        <td>63</td>\n",
              "    </tr>\n",
              "    <tr>\n",
              "        <td>Electronica/Dance</td>\n",
              "        <td>55</td>\n",
              "    </tr>\n",
              "    <tr>\n",
              "        <td>Classical</td>\n",
              "        <td>47</td>\n",
              "    </tr>\n",
              "    <tr>\n",
              "        <td>Reggae</td>\n",
              "        <td>35</td>\n",
              "    </tr>\n",
              "    <tr>\n",
              "        <td>Hip Hop/Rap</td>\n",
              "        <td>33</td>\n",
              "    </tr>\n",
              "    <tr>\n",
              "        <td>Heavy Metal</td>\n",
              "        <td>8</td>\n",
              "    </tr>\n",
              "    <tr>\n",
              "        <td>Soundtrack</td>\n",
              "        <td>5</td>\n",
              "    </tr>\n",
              "    <tr>\n",
              "        <td>TV Shows</td>\n",
              "        <td>2</td>\n",
              "    </tr>\n",
              "    <tr>\n",
              "        <td>Drama</td>\n",
              "        <td>1</td>\n",
              "    </tr>\n",
              "</table>"
            ],
            "text/plain": [
              "[('Rock', 2635),\n",
              " ('Metal', 619),\n",
              " ('Alternative & Punk', 492),\n",
              " ('Latin', 167),\n",
              " ('R&B/Soul', 159),\n",
              " ('Blues', 124),\n",
              " ('Jazz', 121),\n",
              " ('Alternative', 117),\n",
              " ('Easy Listening', 74),\n",
              " ('Pop', 63),\n",
              " ('Electronica/Dance', 55),\n",
              " ('Classical', 47),\n",
              " ('Reggae', 35),\n",
              " ('Hip Hop/Rap', 33),\n",
              " ('Heavy Metal', 8),\n",
              " ('Soundtrack', 5),\n",
              " ('TV Shows', 2),\n",
              " ('Drama', 1)]"
            ]
          },
          "metadata": {
            "tags": []
          },
          "execution_count": 11
        }
      ]
    },
    {
      "cell_type": "markdown",
      "metadata": {
        "id": "K8m2hIf-Vetv",
        "colab_type": "text"
      },
      "source": [
        "**Rock** is by far the best selling genre on Chinook, followed by **Metal** and **Alternative & Punk**. It is advisable for Chinook to leverage its strength in these genres, and invest to expand its inventory in these genres. In its marketing expressions, Chinook should profile itself as a **specialist** in these genres to further attrack audiences interested in these genres.\n",
        "\n",
        "The opposite, more **generalist** approach of boosting sales efforts in weaker genres (such as Soundtracks, Hip Hop/Rap and Reggae) could expand the user base substantially, but might be less cost efficient. \n",
        "\n",
        "[**The Long Tail: Why the Future of Business is Selling Less of More**](https://www.amazon.com/Long-Tail-Future-Business-Selling/dp/1401309666) by Chris Anderson describes why this generalist might pay off in the long term, but further marketing research would have to be done."
      ]
    },
    {
      "cell_type": "markdown",
      "metadata": {
        "id": "_VK1bbXTEpbL",
        "colab_type": "text"
      },
      "source": [
        "## 3. Sales performance per country"
      ]
    },
    {
      "cell_type": "markdown",
      "metadata": {
        "id": "7POwIRXZjgEh",
        "colab_type": "text"
      },
      "source": [
        "This section will answer the following question: **What countries generate most sales, and which the least?**"
      ]
    },
    {
      "cell_type": "code",
      "metadata": {
        "id": "bzz1CVLKdT10",
        "colab_type": "code",
        "colab": {
          "base_uri": "https://localhost:8080/",
          "height": 248
        },
        "outputId": "bf3b825f-1edd-4ae6-8b89-bf844a209fa5"
      },
      "source": [
        "%%sql\n",
        "WITH cust_country AS\n",
        "                (\n",
        "                    SELECT c.customer_id,\n",
        "                            c.country ,\n",
        "                            COUNT(i.invoice_id) no_of_purchases,\n",
        "                            SUM(i.total) total_purchase_per_cust\n",
        "                    FROM customer c \n",
        "                    INNER JOIN invoice i ON i.customer_id = c.customer_id\n",
        "                    GROUP BY 1,2\n",
        "                    ORDER BY 2\n",
        "                ),\n",
        "    country_group AS\n",
        "                (\n",
        "                    SELECT cc.country,\n",
        "                           COUNT(cc.customer_id) total_customers,\n",
        "                           SUM(cc.total_purchase_per_cust) Total_sales,\n",
        "                            SUM(cc.total_purchase_per_cust)/SUM(cc.no_of_purchases) AVG_order_value,\n",
        "        \n",
        "                            CASE \n",
        "                                WHEN COUNT(cc.customer_id) = 1 THEN 'Other'\n",
        "                                ELSE cc.country   \n",
        "                            END AS country1\n",
        "        \n",
        "           \n",
        "             \n",
        "                    FROM cust_country cc\n",
        "                    GROUP BY 1\n",
        "                ),\n",
        "        country_sort AS\n",
        "                    (\n",
        "                        SELECT \n",
        "                            cg.country1 country,\n",
        "                            SUM(cg.total_customers) Total_customers,\n",
        "                            SUM(cg.Total_sales) Total_sales,\n",
        "                            SUM(cg.Total_sales)/SUM(cg.Total_customers) AVG_Sales_Per_Customer,\n",
        "                            cg.AVG_order_value Avg_order_value,\n",
        "                            CASE\n",
        "                                WHEN cg.country1='Other' THEN 1\n",
        "                                ELSE 0\n",
        "                            END AS sort \n",
        "                        FROM country_group cg\n",
        "                        GROUP BY 1\n",
        "                        ORDER BY sort ASC ,Total_sales DESC\n",
        "                    )\n",
        "SELECT cs.country Country,\n",
        "       cs.Total_customers Total_customers,\n",
        "       ROUND(cs.Total_sales,2) Total_sales,\n",
        "    ROUND(cs.AVG_sales_Per_Customer,2) AVG_sales_Per_Customer,\n",
        "       ROUND(cs. Avg_order_value,2) AVG_order_value\n",
        "FROM country_sort cs"
      ],
      "execution_count": 16,
      "outputs": [
        {
          "output_type": "stream",
          "text": [
            " * sqlite:///chinook.db\n",
            "Done.\n"
          ],
          "name": "stdout"
        },
        {
          "output_type": "execute_result",
          "data": {
            "text/html": [
              "<table>\n",
              "    <tr>\n",
              "        <th>Country</th>\n",
              "        <th>Total_customers</th>\n",
              "        <th>Total_sales</th>\n",
              "        <th>AVG_sales_Per_Customer</th>\n",
              "        <th>AVG_order_value</th>\n",
              "    </tr>\n",
              "    <tr>\n",
              "        <td>USA</td>\n",
              "        <td>13</td>\n",
              "        <td>1040.49</td>\n",
              "        <td>80.04</td>\n",
              "        <td>7.94</td>\n",
              "    </tr>\n",
              "    <tr>\n",
              "        <td>Canada</td>\n",
              "        <td>8</td>\n",
              "        <td>535.59</td>\n",
              "        <td>66.95</td>\n",
              "        <td>7.05</td>\n",
              "    </tr>\n",
              "    <tr>\n",
              "        <td>Brazil</td>\n",
              "        <td>5</td>\n",
              "        <td>427.68</td>\n",
              "        <td>85.54</td>\n",
              "        <td>7.01</td>\n",
              "    </tr>\n",
              "    <tr>\n",
              "        <td>France</td>\n",
              "        <td>5</td>\n",
              "        <td>389.07</td>\n",
              "        <td>77.81</td>\n",
              "        <td>7.78</td>\n",
              "    </tr>\n",
              "    <tr>\n",
              "        <td>Germany</td>\n",
              "        <td>4</td>\n",
              "        <td>334.62</td>\n",
              "        <td>83.66</td>\n",
              "        <td>8.16</td>\n",
              "    </tr>\n",
              "    <tr>\n",
              "        <td>Czech Republic</td>\n",
              "        <td>2</td>\n",
              "        <td>273.24</td>\n",
              "        <td>136.62</td>\n",
              "        <td>9.11</td>\n",
              "    </tr>\n",
              "    <tr>\n",
              "        <td>United Kingdom</td>\n",
              "        <td>3</td>\n",
              "        <td>245.52</td>\n",
              "        <td>81.84</td>\n",
              "        <td>8.77</td>\n",
              "    </tr>\n",
              "    <tr>\n",
              "        <td>Portugal</td>\n",
              "        <td>2</td>\n",
              "        <td>185.13</td>\n",
              "        <td>92.56</td>\n",
              "        <td>6.38</td>\n",
              "    </tr>\n",
              "    <tr>\n",
              "        <td>India</td>\n",
              "        <td>2</td>\n",
              "        <td>183.15</td>\n",
              "        <td>91.57</td>\n",
              "        <td>8.72</td>\n",
              "    </tr>\n",
              "    <tr>\n",
              "        <td>Other</td>\n",
              "        <td>15</td>\n",
              "        <td>1094.94</td>\n",
              "        <td>73.0</td>\n",
              "        <td>7.52</td>\n",
              "    </tr>\n",
              "</table>"
            ],
            "text/plain": [
              "[('USA', 13, 1040.49, 80.04, 7.94),\n",
              " ('Canada', 8, 535.59, 66.95, 7.05),\n",
              " ('Brazil', 5, 427.68, 85.54, 7.01),\n",
              " ('France', 5, 389.07, 77.81, 7.78),\n",
              " ('Germany', 4, 334.62, 83.66, 8.16),\n",
              " ('Czech Republic', 2, 273.24, 136.62, 9.11),\n",
              " ('United Kingdom', 3, 245.52, 81.84, 8.77),\n",
              " ('Portugal', 2, 185.13, 92.56, 6.38),\n",
              " ('India', 2, 183.15, 91.57, 8.72),\n",
              " ('Other', 15, 1094.94, 73.0, 7.52)]"
            ]
          },
          "metadata": {
            "tags": []
          },
          "execution_count": 16
        }
      ]
    },
    {
      "cell_type": "markdown",
      "metadata": {
        "id": "F9L4c5Z3Epdy",
        "colab_type": "text"
      },
      "source": [
        "The **USA** generates the most sales, followed by **Canada**, while average sales per customer are the lowest for these countries. **Czech Republic** has the highest average sale per customer and the highest average order value. It would be advisable to concentrate marketing efforts in these countries. The countries with the lowest sales are **Portugal** and **India**. "
      ]
    },
    {
      "cell_type": "markdown",
      "metadata": {
        "id": "PCUmtejDEpgQ",
        "colab_type": "text"
      },
      "source": [
        "## 4. Sales agents performance"
      ]
    },
    {
      "cell_type": "markdown",
      "metadata": {
        "id": "f9H0NunVEpix",
        "colab_type": "text"
      },
      "source": [
        ""
      ]
    },
    {
      "cell_type": "code",
      "metadata": {
        "id": "VhlkFHxRFAzz",
        "colab_type": "code",
        "colab": {}
      },
      "source": [
        ""
      ],
      "execution_count": 6,
      "outputs": []
    },
    {
      "cell_type": "markdown",
      "metadata": {
        "id": "YUF3mbv4Epl3",
        "colab_type": "text"
      },
      "source": [
        "## 5. Customer base"
      ]
    },
    {
      "cell_type": "markdown",
      "metadata": {
        "id": "gSbqikV2Eppb",
        "colab_type": "text"
      },
      "source": [
        ""
      ]
    },
    {
      "cell_type": "code",
      "metadata": {
        "id": "fgyCg5N0FBUT",
        "colab_type": "code",
        "colab": {}
      },
      "source": [
        ""
      ],
      "execution_count": 6,
      "outputs": []
    },
    {
      "cell_type": "markdown",
      "metadata": {
        "id": "HdIxm8yWEptR",
        "colab_type": "text"
      },
      "source": [
        "## 6. Music inventory"
      ]
    },
    {
      "cell_type": "markdown",
      "metadata": {
        "id": "fXCULDDsFCYd",
        "colab_type": "text"
      },
      "source": [
        ""
      ]
    },
    {
      "cell_type": "code",
      "metadata": {
        "id": "WO9DvTaqFCqw",
        "colab_type": "code",
        "colab": {}
      },
      "source": [
        ""
      ],
      "execution_count": 6,
      "outputs": []
    }
  ]
}